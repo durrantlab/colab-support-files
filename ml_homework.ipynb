{
 "cells": [
  {
   "attachments": {},
   "cell_type": "markdown",
   "metadata": {},
   "source": [
    "# Install RDKIT and import other dependencies"
   ]
  },
  {
   "cell_type": "code",
   "execution_count": null,
   "metadata": {},
   "outputs": [],
   "source": [
    "# Install rdkit in colab if necessary\n",
    "\n",
    "!pip install rdkit\n",
    "\n",
    "from rdkit import Chem\n",
    "from rdkit.Chem import Descriptors\n",
    "from rdkit.Chem import AllChem\n",
    "import requests\n",
    "import numpy as np\n",
    "import random\n",
    "import zipfile\n",
    "from io import BytesIO\n",
    "import os"
   ]
  },
  {
   "cell_type": "markdown",
   "metadata": {},
   "source": [
    "# Load some data"
   ]
  },
  {
   "cell_type": "code",
   "execution_count": null,
   "metadata": {},
   "outputs": [],
   "source": [
    "# Get data for training and testing (DON'T MODIFY THIS CODE!)\n",
    "\n",
    "data_id = random.choice(\n",
    "    [10030, 10503, 11161, 11705, 12106, 12869, 13239, 14720, 15380, 15629, 15760, 19911, 23859, 27649, 28818, 5143, 5616, 7827]\n",
    ")\n",
    "\n",
    "url = f\"https://raw.githubusercontent.com/durrantlab/colab-support-files/main/qsar_datasets/{data_id}.zip\"\n",
    "response = requests.get(url)\n",
    "\n",
    "smi_files_dict = {}\n",
    "\n",
    "# Checking if the request was successful\n",
    "if response.status_code == 200:\n",
    "    # Using BytesIO to treat the bytes content as a file-like object\n",
    "    with zipfile.ZipFile(BytesIO(response.content)) as z:\n",
    "        # Filtering for files ending with '.smi'\n",
    "        smi_files = [f for f in z.namelist() if f.endswith('.smi')]\n",
    "        \n",
    "        # Extracting and adding the content of each .smi file to the dictionary\n",
    "        for smi_file in smi_files:\n",
    "            with z.open(smi_file) as file:\n",
    "                # Reading the content of the file\n",
    "                content = file.read().decode('utf-8')\n",
    "                # Getting the basename of the file (without path and extension)\n",
    "                basename = os.path.splitext(os.path.basename(smi_file))[0]\n",
    "                smi_files_dict[basename] = content\n",
    "\n",
    "testing_set_data_txt = smi_files_dict['testing_set']\n",
    "training_set_data_txt = smi_files_dict['training_set']\n",
    "\n",
    "# Split the data by lines\n",
    "testing_set_lines = testing_set_data_txt.split('\\n')\n",
    "training_set_lines = training_set_data_txt.split('\\n')\n",
    "\n",
    "# Randomly shuffly the data.\n",
    "random.shuffle(testing_set_lines)\n",
    "random.shuffle(training_set_lines)"
   ]
  },
  {
   "cell_type": "code",
   "execution_count": null,
   "metadata": {},
   "outputs": [],
   "source": [
    "# Each line in the training data has two columns. First is SMILES string, second\n",
    "# is whether it is active or inactive.\n",
    "\n",
    "print(training_set_lines[:5])"
   ]
  },
  {
   "cell_type": "code",
   "execution_count": null,
   "metadata": {},
   "outputs": [],
   "source": [
    "# Testing data has two columns. SMILES string and a unique identifier. The\n",
    "# testing data does not indicate whether the molecule is active or inactive.\n",
    "# That's what you'll predict.\n",
    "\n",
    "print(testing_set_lines[:5])"
   ]
  },
  {
   "cell_type": "markdown",
   "metadata": {},
   "source": [
    "# Extract information from the data"
   ]
  },
  {
   "cell_type": "code",
   "execution_count": null,
   "metadata": {},
   "outputs": [],
   "source": [
    "# Get the SMILES strings alone for the training and testing set.\n",
    "\n",
    "training_set_smiles = YOUR CODE HERE\n",
    "testing_set_smiles = YOUR CODE HERE\n",
    "\n",
    "# training_set_smiles and testing_set_smiles look like:\n",
    "#\n",
    "# ['COc1ccc(S(=O)(=O)N(CC2CCCC2)C[C@@H](O)CN(CCc2ccccc2)C(=O)OCc2cccnc2)cc1',\n",
    "#  'Cc1cc(SC2=C([O-])O[C@](CCc3ccc(O)cc3)(C(C)C)CC2=O)c(C(C)(C)C)cc1OS(C)(=O)=O',\n",
    "#  'Cc1cc(SC2=C([O-])C[C@@](CCc3ccc(O)cc3)(C(C)C)OC2=O)c(C(C)(C)C)cc1OS(C)(=O)=O',\n",
    "#  ...]"
   ]
  },
  {
   "cell_type": "code",
   "execution_count": null,
   "metadata": {},
   "outputs": [],
   "source": [
    "# Get the labels for the training and testing set (Active/Inactive in the case\n",
    "# of the training set, and the compound id in the case of the testing set).\n",
    "\n",
    "training_set_labels = YOUR CODE HERE\n",
    "testing_set_labels = YOUR CODE HERE\n",
    "\n",
    "# training_set_labels looks like ['Active', 'Active', 'Active', ...]\n",
    "#\n",
    "# testing_set_labels looks like ['Compound_10142', 'Compound_11090', 'Compound_11573', ...]"
   ]
  },
  {
   "cell_type": "code",
   "execution_count": null,
   "metadata": {},
   "outputs": [],
   "source": [
    "# In the case of the training data, the label must be a number, not a string.\n",
    "\n",
    "training_set_labels_numeric = YOUR CODE HERE\n",
    "\n",
    "# training_set_labels looks like [1, 1, 1, 1, 1, 1, 1, 1, 1, 1, 0, 0, 0, 0, 0, ...]"
   ]
  },
  {
   "cell_type": "code",
   "execution_count": null,
   "metadata": {},
   "outputs": [],
   "source": [
    "# Convert the SMILES strings of the training and seting set to rdkit molecule\n",
    "# objects.\n",
    "\n",
    "training_set_mols = YOUR CODE HERE\n",
    "testing_set_mols = YOUR CODE HERE"
   ]
  },
  {
   "cell_type": "markdown",
   "metadata": {},
   "source": [
    "# Create features (numeric vectors) to describe each molecule"
   ]
  },
  {
   "cell_type": "code",
   "execution_count": null,
   "metadata": {},
   "outputs": [],
   "source": [
    "# Create a function that returns a list of numeric features for a molecule. For\n",
    "# example, you could use a Morgan Fingerprint. Alternatively, you could return a\n",
    "# list of the four Lipinski descriptors.\n",
    "\n",
    "def features(mol):\n",
    "    list_of_numeric_features = YOUR CODE HERE\n",
    "    return list_of_numeric_features\n",
    "\n",
    "# Get the features for the training- and testing-set molecules.\n",
    "\n",
    "training_set_features = [features(mol) for mol in training_set_mols]\n",
    "testing_set_features = [features(mol) for mol in testing_set_mols]"
   ]
  },
  {
   "cell_type": "markdown",
   "metadata": {},
   "source": [
    "# Divide the data into training and validation sets"
   ]
  },
  {
   "cell_type": "code",
   "execution_count": null,
   "metadata": {},
   "outputs": [],
   "source": [
    "# Divide the training set into a training set and a validation set. 50/50 split.\n",
    "\n",
    "YOUR CODE HERE\n",
    "\n",
    "validation_features = YOUR CODE HERE (values taken from training_set_features)\n",
    "validation_labels = YOUR CODE HERE (values taken from training_set_labels_numeric)\n",
    "\n",
    "training_features = YOUR CODE HERE (values taken from training_set_features)\n",
    "training_labels = YOUR CODE HERE (values taken from training_set_labels_numeric)"
   ]
  },
  {
   "cell_type": "markdown",
   "metadata": {},
   "source": [
    "# Train a classifier on the training data, test it on the validaton data"
   ]
  },
  {
   "cell_type": "code",
   "execution_count": null,
   "metadata": {},
   "outputs": [],
   "source": [
    "# Train a classifier on the training set and evaluate it on the validation set.\n",
    "# You should use the accuracy_score() function to calculate the accuracy between\n",
    "# validation_labels and predicted_labels.\n",
    "\n",
    "from sklearn.ensemble import YOUR CODE HERE\n",
    "from sklearn.metrics import accuracy_score\n",
    "\n",
    "classifier = YOUR CODE HERE\n",
    "YOUR TRAINING CODE HERE\n",
    "\n",
    "predicted_labels = YOUR CODE HERE\n",
    "accuracy = accuracy_score(YOUR CODE HERE)\n",
    "\n",
    "print(f'Validation accuracy: {accuracy:.2%}')"
   ]
  },
  {
   "cell_type": "markdown",
   "metadata": {},
   "source": [
    "# Apply the classifier to the withheld test data, and upload results to Canvas"
   ]
  },
  {
   "cell_type": "code",
   "execution_count": null,
   "metadata": {},
   "outputs": [],
   "source": [
    "# Now apply the classifer to the testing set and save the results to a file.\n",
    "# Upload this file, as well as a copy of your notebook, to Canvas. DO NOT CHANGE\n",
    "# THIS CODE.\n",
    "\n",
    "predicted_labels = classifier.predict(testing_set_features)\n",
    "\n",
    "with open('predicted_labels.txt', 'w') as f:\n",
    "    f.write(f\"{data_id}\\n\")\n",
    "    for idx, label in enumerate(predicted_labels):\n",
    "        # print(label)\n",
    "        if label == 1:\n",
    "            f.write(f'{testing_set_labels[idx]} Active\\n')\n",
    "            print(\"Predicted active: \", testing_set_labels[idx])\n",
    "\n",
    "# Download file to local machine (colab)\n",
    "\n",
    "from google.colab import files\n",
    "files.download('predicted_labels.txt')"
   ]
  },
  {
   "cell_type": "code",
   "execution_count": null,
   "metadata": {},
   "outputs": [],
   "source": []
  }
 ],
 "metadata": {
  "kernelspec": {
   "display_name": "Python36",
   "language": "python",
   "name": "python3"
  },
  "language_info": {
   "codemirror_mode": {
    "name": "ipython",
    "version": 3
   },
   "file_extension": ".py",
   "mimetype": "text/x-python",
   "name": "python",
   "nbconvert_exporter": "python",
   "pygments_lexer": "ipython3",
   "version": "3.7.6"
  },
  "orig_nbformat": 4,
  "vscode": {
   "interpreter": {
    "hash": "b688bd6034013917c307249794051b6e5f55452874c475677e645b416c13c006"
   }
  }
 },
 "nbformat": 4,
 "nbformat_minor": 2
}
