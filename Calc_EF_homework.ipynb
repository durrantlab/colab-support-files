{
  "nbformat": 4,
  "nbformat_minor": 0,
  "metadata": {
    "colab": {
      "provenance": []
    },
    "kernelspec": {
      "name": "python3",
      "display_name": "Python 3"
    },
    "language_info": {
      "name": "python"
    }
  },
  "cells": [
    {
      "cell_type": "code",
      "execution_count": 3,
      "metadata": {
        "id": "Qf8_m1cYddOb"
      },
      "outputs": [],
      "source": [
        "import matplotlib.pyplot as plt"
      ]
    },
    {
      "cell_type": "code",
      "source": [
        "# Copy this from excel. (You may need to first copy it to a text editor like\n",
        "# VSCode first.)\n",
        "\n",
        "data = \"\"\"F\t-4.0\n",
        "T\t-4.3\n",
        "F\t-2.7\n",
        "F\t-6.5\n",
        "F\t-7.7\n",
        "F\t-1.9\n",
        "F\t-0.2\n",
        "F\t-2.3\n",
        "F\t-0.9\n",
        "T\t-13.2\n",
        "F\t-10.6\n",
        "F\t-13.0\n",
        "F\t-8.0\n",
        "F\t-12.2\n",
        "T\t-12.3\n",
        "F\t-4.7\n",
        "F\t-11.6\n",
        "F\t-2.0\n",
        "F\t-2.6\n",
        "F\t-9.2\n",
        "F\t-12.0\n",
        "F\t-3.5\n",
        "F\t-5.3\n",
        "F\t-1.5\n",
        "F\t-2.2\n",
        "T\t-10.0\n",
        "F\t-1.3\n",
        "F\t-5.7\n",
        "F\t-2.3\n",
        "T\t-14.3\n",
        "F\t-4.9\n",
        "F\t-3.6\n",
        "F\t-10.8\n",
        "T\t-14.7\n",
        "F\t-2.4\n",
        "T\t-13.6\n",
        "F\t-12.1\n",
        "F\t-10.1\n",
        "F\t-9.4\n",
        "F\t-4.0\n",
        "F\t-0.1\n",
        "T\t-0.3\n",
        "F\t-10.7\n",
        "F\t-0.2\n",
        "F\t-9.5\n",
        "F\t-1.6\n",
        "F\t-7.6\n",
        "F\t-6.6\n",
        "F\t-3.2\n",
        "F\t-5.7\n",
        "F\t-3.8\n",
        "F\t-0.9\n",
        "F\t-2.3\n",
        "F\t-10.6\n",
        "T\t-2.2\n",
        "F\t-0.3\n",
        "F\t-0.7\n",
        "F\t-8.6\n",
        "F\t-12.9\n",
        "F\t-7.2\n",
        "F\t-7.1\n",
        "T\t-12.4\n",
        "F\t-1.3\n",
        "F\t-5.8\n",
        "F\t-4.1\n",
        "F\t-2.8\n",
        "F\t-11.2\n",
        "T\t-11.6\n",
        "F\t-2.5\n",
        "F\t-6.0\n",
        "F\t-5.5\n",
        "F\t-11.2\n",
        "F\t-2.0\n",
        "F\t-14.9\n",
        "F\t-14.1\n",
        "F\t-6.8\n",
        "F\t-9.1\n",
        "F\t-9.2\n",
        "F\t-8.8\n",
        "F\t-3.6\n",
        "T\t-12.0\n",
        "F\t-11.6\n",
        "T\t-8.4\n",
        "F\t-2.0\n",
        "F\t-10.2\n",
        "F\t-7.3\n",
        "F\t-1.2\n",
        "T\t-14.2\n",
        "F\t-8.6\n",
        "F\t-6.0\n",
        "F\t-5.9\n",
        "T\t-14.6\n",
        "F\t-13.6\n",
        "T\t-12.2\n",
        "F\t-4.3\n",
        "F\t-1.9\n",
        "F\t-4.5\n",
        "F\t-4.5\n",
        "F\t-7.8\n",
        "F\t-1.6\n",
        "T\t-13.5\n",
        "T\t-14.1\n",
        "F\t-6.1\n",
        "F\t-9.3\n",
        "F\t-1.7\n",
        "F\t-0.5\n",
        "F\t-8.1\n",
        "F\t-7.9\n",
        "F\t-7.8\n",
        "F\t-10.1\"\"\""
      ],
      "metadata": {
        "id": "Hva-Dr2ddery"
      },
      "execution_count": 4,
      "outputs": []
    },
    {
      "cell_type": "code",
      "source": [
        "# Divide the data into columns. It should look like this:\n",
        "# [['F', '-4.0'],\n",
        "#  ['T', '-4.3'],\n",
        "#  ['F', '-2.7'],\n",
        "#  ['F', '-6.5'],\n",
        "#  ['F', '-7.7'],\n",
        "#  ['F', '-1.9'],\n",
        "#  ['F', '-0.2'],\n",
        "#  ...\n",
        "#  ['F', '-2.3'],\n",
        "#  ['F', '-0.9'],\n",
        "#  ['T', '-13.2']]\n",
        "\n",
        "data_split = YOUR CODE HERE\n",
        "data_split[:10]"
      ],
      "metadata": {
        "colab": {
          "base_uri": "https://localhost:8080/"
        },
        "id": "nAOUq5HfePgv",
        "outputId": "7bb762b3-1e77-43e5-c045-8651d5741c95"
      },
      "execution_count": 5,
      "outputs": [
        {
          "output_type": "execute_result",
          "data": {
            "text/plain": [
              "[['F', '-4.0'],\n",
              " ['T', '-4.3'],\n",
              " ['F', '-2.7'],\n",
              " ['F', '-6.5'],\n",
              " ['F', '-7.7'],\n",
              " ['F', '-1.9'],\n",
              " ['F', '-0.2'],\n",
              " ['F', '-2.3'],\n",
              " ['F', '-0.9'],\n",
              " ['T', '-13.2']]"
            ]
          },
          "metadata": {},
          "execution_count": 5
        }
      ]
    },
    {
      "cell_type": "code",
      "source": [
        "# The score should be a float, not a string. Your new version of data_split should look like this:\n",
        "\n",
        "# [['F', -4.0],\n",
        "#  ['T', -4.3],\n",
        "#  ['F', -2.7],\n",
        "#  ['F', -6.5],\n",
        "#  ['F', -7.7],\n",
        "#  ['F', -1.9],\n",
        "#  ['F', -0.2],\n",
        "#  ...\n",
        "#  ['F', -2.3],\n",
        "#  ['F', -0.9],\n",
        "#  ['T', -13.2]]\n",
        "\n",
        "\n",
        "data_split = YOUR CODE HERE\n",
        "data_split[:10]"
      ],
      "metadata": {
        "colab": {
          "base_uri": "https://localhost:8080/"
        },
        "id": "lLQ3UPa7tTn0",
        "outputId": "f33da272-9ba6-4064-966a-f7f85255f4fa"
      },
      "execution_count": 6,
      "outputs": [
        {
          "output_type": "execute_result",
          "data": {
            "text/plain": [
              "[['F', -4.0],\n",
              " ['T', -4.3],\n",
              " ['F', -2.7],\n",
              " ['F', -6.5],\n",
              " ['F', -7.7],\n",
              " ['F', -1.9],\n",
              " ['F', -0.2],\n",
              " ['F', -2.3],\n",
              " ['F', -0.9],\n",
              " ['T', -13.2]]"
            ]
          },
          "metadata": {},
          "execution_count": 6
        }
      ]
    },
    {
      "cell_type": "code",
      "source": [
        "# Lets encode \"T\" as 1 and \"F\" as 0. When you're done, data_split should look\n",
        "# like this:\n",
        "\n",
        "# [[0, -4.0],\n",
        "#  [1, -4.3],\n",
        "#  [0, -2.7],\n",
        "#  [0, -6.5],\n",
        "#  [0, -7.7],\n",
        "#  [0, -1.9],\n",
        "#  [0, -0.2],\n",
        "#  ...\n",
        "#  [0, -2.3],\n",
        "#  [0, -0.9],\n",
        "#  [1, -13.2]]\n",
        "\n",
        "data_split = YOUR CODE HERE\n",
        "data_split[:10]"
      ],
      "metadata": {
        "colab": {
          "base_uri": "https://localhost:8080/"
        },
        "id": "in95v16wtd1y",
        "outputId": "7f10e50e-b49e-41b8-8379-2247acc61cce"
      },
      "execution_count": 7,
      "outputs": [
        {
          "output_type": "execute_result",
          "data": {
            "text/plain": [
              "[[0, -4.0],\n",
              " [1, -4.3],\n",
              " [0, -2.7],\n",
              " [0, -6.5],\n",
              " [0, -7.7],\n",
              " [0, -1.9],\n",
              " [0, -0.2],\n",
              " [0, -2.3],\n",
              " [0, -0.9],\n",
              " [1, -13.2]]"
            ]
          },
          "metadata": {},
          "execution_count": 7
        }
      ]
    },
    {
      "cell_type": "code",
      "source": [
        "# Now sort the list by score, from best (most negative) to worst (most positive).\n",
        "# Your data_split_sorted variable should look like this:\n",
        "\n",
        "# [[0, -14.9],\n",
        "#  [1, -14.7],\n",
        "#  [1, -14.6],\n",
        "#  [1, -14.3],\n",
        "#  [1, -14.2],\n",
        "#  [0, -14.1],\n",
        "#  [1, -14.1],\n",
        "#  ...\n",
        "#  [1, -13.6],\n",
        "#  [0, -13.6],\n",
        "#  [1, -13.5]]\n",
        "\n",
        "data_split_sorted = YOUR CODE HERE\n",
        "data_split_sorted[:10]"
      ],
      "metadata": {
        "colab": {
          "base_uri": "https://localhost:8080/"
        },
        "id": "coBgtjs6tp8X",
        "outputId": "38e0efdf-d3c9-46b5-8e95-ad88881ed726"
      },
      "execution_count": 8,
      "outputs": [
        {
          "output_type": "execute_result",
          "data": {
            "text/plain": [
              "[[0, -14.9],\n",
              " [1, -14.7],\n",
              " [1, -14.6],\n",
              " [1, -14.3],\n",
              " [1, -14.2],\n",
              " [0, -14.1],\n",
              " [1, -14.1],\n",
              " [1, -13.6],\n",
              " [0, -13.6],\n",
              " [1, -13.5]]"
            ]
          },
          "metadata": {},
          "execution_count": 8
        }
      ]
    },
    {
      "cell_type": "code",
      "source": [
        "# Calculate the fraction of all molecules that are actives (the number of molecules\n",
        "# labeled 1 divided by the total number of molecules, whether 0 or 1).\n",
        "\n",
        "frac_total_actives = YOUR CODE HERE\n",
        "frac_total_actives"
      ],
      "metadata": {
        "colab": {
          "base_uri": "https://localhost:8080/"
        },
        "id": "jdvBUiaBvZBU",
        "outputId": "817d612b-201d-4a90-c7bb-7f8b9c9b4579"
      },
      "execution_count": 9,
      "outputs": [
        {
          "output_type": "execute_result",
          "data": {
            "text/plain": [
              "0.16363636363636364"
            ]
          },
          "metadata": {},
          "execution_count": 9
        }
      ]
    },
    {
      "cell_type": "code",
      "source": [
        "# Consider all possible cutoffs and calculate the fraction of compounds better\n",
        "# than that cutoff that are active. Divide that my frac_total_actives to get\n",
        "# the enrichment factor for that cutoff.\n",
        "\n",
        "# In the end, frac_actives_per_cutoff should look like this:\n",
        "\n",
        "# [0.0, 3.0555555555555554, ..., 1.0185185185185184, 1.0091743119266057]\n",
        "\n",
        "\n",
        "frac_actives_per_cutoff = []\n",
        "\n",
        "for cutoff in YOUR CODE HERE:\n",
        "  compounds_above_cutoff = data_split_sorted[:cutoff]\n",
        "  frac_actives = YOUR CODE HERE\n",
        "  frac_actives_divided_by_frac_total_actives = YOUR CODE HERE\n",
        "  frac_actives_per_cutoff.append(YOUR CODE HERE)\n",
        "\n",
        "print(frac_actives_per_cutoff)"
      ],
      "metadata": {
        "colab": {
          "base_uri": "https://localhost:8080/"
        },
        "id": "CDatDMSMvmfz",
        "outputId": "bc42a7aa-de53-42f8-866d-0dbba59fb654"
      },
      "execution_count": 12,
      "outputs": [
        {
          "output_type": "stream",
          "name": "stdout",
          "text": [
            "[0.0, 3.0555555555555554, 4.0740740740740735, 4.583333333333333, 4.888888888888889, 4.0740740740740735, 4.365079365079366, 4.583333333333333, 4.0740740740740735, 4.277777777777778, 4.444444444444445, 4.0740740740740735, 3.760683760683761, 3.928571428571429, 4.0740740740740735, 3.8194444444444446, 3.954248366013072, 3.734567901234568, 3.538011695906433, 3.6666666666666665, 3.492063492063492, 3.611111111111111, 3.4541062801932365, 3.310185185185185, 3.177777777777778, 3.0555555555555554, 2.94238683127572, 2.8373015873015874, 2.739463601532567, 2.6481481481481484, 2.5627240143369177, 2.482638888888889, 2.5925925925925926, 2.5163398692810457, 2.4444444444444446, 2.376543209876543, 2.3123123123123124, 2.2514619883040936, 2.1937321937321936, 2.138888888888889, 2.086720867208672, 2.0370370370370368, 2.1317829457364343, 2.083333333333333, 2.0370370370370368, 1.9927536231884058, 1.950354609929078, 1.9097222222222223, 1.870748299319728, 1.8333333333333333, 1.7973856209150327, 1.7628205128205128, 1.729559748427673, 1.6975308641975309, 1.6666666666666665, 1.6369047619047619, 1.608187134502924, 1.5804597701149425, 1.5536723163841808, 1.5277777777777777, 1.5027322404371584, 1.478494623655914, 1.455026455026455, 1.4322916666666667, 1.4102564102564104, 1.3888888888888888, 1.3681592039800996, 1.3480392156862744, 1.328502415458937, 1.3968253968253967, 1.377151799687011, 1.3580246913580247, 1.339421613394216, 1.3213213213213213, 1.3037037037037038, 1.286549707602339, 1.26984126984127, 1.2535612535612535, 1.2376933895921238, 1.2222222222222223, 1.2071330589849107, 1.1924119241192412, 1.178045515394913, 1.164021164021164, 1.1503267973856208, 1.1369509043927648, 1.123882503192848, 1.1111111111111112, 1.16729088639201, 1.154320987654321, 1.1416361416361416, 1.1292270531400965, 1.1170848267622462, 1.1052009456264775, 1.0935672514619883, 1.082175925925926, 1.0710194730813287, 1.060090702947846, 1.0493827160493827, 1.038888888888889, 1.0286028602860287, 1.0185185185185184, 1.0086299892125135, 0.9989316239316239, 0.9894179894179894, 1.0377358490566038, 1.02803738317757, 1.0185185185185184, 1.0091743119266057]\n"
          ]
        }
      ]
    },
    {
      "cell_type": "code",
      "source": [
        "# Graph the enrichment factors per cutoff.\n",
        "\n",
        "# Generating a list of indices for x-axis\n",
        "x_axis = list(range(len(frac_actives_per_cutoff)))\n",
        "\n",
        "# Creating the line graph\n",
        "plt.plot(x_axis, frac_actives_per_cutoff)\n",
        "\n",
        "# Adding title and labels\n",
        "plt.title('Fraction of Actives per Cutoff')\n",
        "plt.xlabel('Cutoff Index')\n",
        "plt.ylabel('Fraction of Actives')\n",
        "\n",
        "# Adding a grid\n",
        "plt.grid(True)\n",
        "\n",
        "# Displaying the graph\n",
        "plt.show()"
      ],
      "metadata": {
        "colab": {
          "base_uri": "https://localhost:8080/",
          "height": 472
        },
        "id": "QFYk7q3HwSgf",
        "outputId": "29c5e54e-7ae4-4c9b-d027-52e788dcdb60"
      },
      "execution_count": 13,
      "outputs": [
        {
          "output_type": "display_data",
          "data": {
            "text/plain": [
              "<Figure size 640x480 with 1 Axes>"
            ],
            "image/png": "[encoded data removed]"
          },
          "metadata": {}
        }
      ]
    },
    {
      "cell_type": "code",
      "source": [
        "# Save these values to a file you can upload as your homework.\n",
        "import json\n",
        "\n",
        "data_to_save = {\n",
        "    \"data\": data,\n",
        "    \"frac_actives_per_cutoff\": frac_actives_per_cutoff\n",
        "}\n",
        "\n",
        "json.dump(data_to_save, open(\"homework_results.json\", \"w\"))\n",
        "\n",
        "# Download homework_results.json file if using google colab.\n",
        "from google.colab import files\n",
        "files.download('homework_results.json')"
      ],
      "metadata": {
        "id": "wtkmtFs_bkoR",
        "outputId": "87313eff-d048-44a6-814c-cb71f2499438",
        "colab": {
          "base_uri": "https://localhost:8080/",
          "height": 17
        }
      },
      "execution_count": 14,
      "outputs": [
        {
          "output_type": "display_data",
          "data": {
            "text/plain": [
              "<IPython.core.display.Javascript object>"
            ],
            "application/javascript": [
              "\n",
              "    async function download(id, filename, size) {\n",
              "      if (!google.colab.kernel.accessAllowed) {\n",
              "        return;\n",
              "      }\n",
              "      const div = document.createElement('div');\n",
              "      const label = document.createElement('label');\n",
              "      label.textContent = `Downloading \"${filename}\": `;\n",
              "      div.appendChild(label);\n",
              "      const progress = document.createElement('progress');\n",
              "      progress.max = size;\n",
              "      div.appendChild(progress);\n",
              "      document.body.appendChild(div);\n",
              "\n",
              "      const buffers = [];\n",
              "      let downloaded = 0;\n",
              "\n",
              "      const channel = await google.colab.kernel.comms.open(id);\n",
              "      // Send a message to notify the kernel that we're ready.\n",
              "      channel.send({})\n",
              "\n",
              "      for await (const message of channel.messages) {\n",
              "        // Send a message to notify the kernel that we're ready.\n",
              "        channel.send({})\n",
              "        if (message.buffers) {\n",
              "          for (const buffer of message.buffers) {\n",
              "            buffers.push(buffer);\n",
              "            downloaded += buffer.byteLength;\n",
              "            progress.value = downloaded;\n",
              "          }\n",
              "        }\n",
              "      }\n",
              "      const blob = new Blob(buffers, {type: 'application/binary'});\n",
              "      const a = document.createElement('a');\n",
              "      a.href = window.URL.createObjectURL(blob);\n",
              "      a.download = filename;\n",
              "      div.appendChild(a);\n",
              "      a.click();\n",
              "      div.remove();\n",
              "    }\n",
              "  "
            ]
          },
          "metadata": {}
        },
        {
          "output_type": "display_data",
          "data": {
            "text/plain": [
              "<IPython.core.display.Javascript object>"
            ],
            "application/javascript": [
              "download(\"download_c130f590-5b68-4c49-9bb8-df61a9faec50\", \"homework_results.json\", 3181)"
            ]
          },
          "metadata": {}
        }
      ]
    }
  ]
}