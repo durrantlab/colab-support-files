{
  "nbformat": 4,
  "nbformat_minor": 0,
  "metadata": {
    "colab": {
      "provenance": []
    },
    "kernelspec": {
      "name": "python3",
      "display_name": "Python 3"
    },
    "language_info": {
      "name": "python"
    }
  },
  "cells": [
    {
      "cell_type": "code",
      "execution_count": 1,
      "metadata": {
        "colab": {
          "base_uri": "https://localhost:8080/"
        },
        "id": "Ilg67T6jM3BI",
        "outputId": "c1495a00-4d6a-487b-84a2-d19c7d80f712"
      },
      "outputs": [
        {
          "output_type": "stream",
          "name": "stdout",
          "text": [
            "✨🍰✨ Everything looks OK!\n"
          ]
        }
      ],
      "source": [
        "# Install conda (to install rdkit)\n",
        "!pip install -q condacolab\n",
        "import condacolab\n",
        "condacolab.install()"
      ]
    },
    {
      "cell_type": "code",
      "source": [
        "# Now install rdkit. Can take a bit.\n",
        "!mamba install -c conda-forge rdkit\n"
      ],
      "metadata": {
        "colab": {
          "base_uri": "https://localhost:8080/"
        },
        "id": "i724F3YjNZMu",
        "outputId": "070ad8c8-16a5-42be-c23a-bde99c1ce29f"
      },
      "execution_count": 2,
      "outputs": [
        {
          "output_type": "stream",
          "name": "stdout",
          "text": [
            "\n",
            "Looking for: ['rdkit']\n",
            "\n",
            "conda-forge/linux-64                                        Using cache\n",
            "conda-forge/noarch                                          Using cache\n",
            "\n",
            "Pinned packages:\n",
            "  - python 3.11.*\n",
            "  - python 3.11.*\n",
            "  - python_abi 3.11.* *cp311*\n",
            "  - cuda-version 12.*\n",
            "\n",
            "\n",
            "Transaction\n",
            "\n",
            "  Prefix: /usr/local\n",
            "\n",
            "  All requested packages already installed\n",
            "\n",
            "\u001b[?25l\u001b[2K\u001b[0G\u001b[?25h"
          ]
        }
      ]
    },
    {
      "cell_type": "code",
      "source": [
        "# Download data that includes many molecules, labeled as either toxic or\n",
        "# non-toxic. It is derived from this source:\n",
        "# https://catalog.data.gov/dataset/the-tox21-10k-compound-library-part-1-collaborative-chemistry-advancing-toxicology\n",
        "\n",
        "import urllib.request\n",
        "\n",
        "url = 'https://raw.githubusercontent.com/durrantlab/colab-support-files/refs/heads/main/toxic.dat'\n",
        "urllib.request.urlretrieve(url, \"toxic.dat\")\n",
        "\n",
        "# Load the data you just downlaoded\n",
        "with open(\"toxic.dat\") as f:\n",
        "    lines = f.readlines()\n",
        "\n",
        "# What to these lines look like?\n",
        "print(\"\".join(lines[:10]))"
      ],
      "metadata": {
        "colab": {
          "base_uri": "https://localhost:8080/"
        },
        "id": "8z_6TnRxNe4D",
        "outputId": "e075f1cb-9984-4e81-a3cf-02cc9326fd8a"
      },
      "execution_count": 4,
      "outputs": [
        {
          "output_type": "stream",
          "name": "stdout",
          "text": [
            "[Ag+].NC1=CC=C(C=C1)S(=O)(=O)\\N=C1\\[N-]C=CC=N1\tToxic\n",
            "[Al+3].CCC(C)[O-].CCC(C)[O-].CCOC(=O)\\C=C(\\C)[O-]\tNontoxic\n",
            "[As]#[In]\tNontoxic\n",
            "[Ba++].[O-][N+]([O-])=O.[O-][N+]([O-])=O\tNontoxic\n",
            "[Ba++].OC[C@@H](O)[C@@H](O)[C@H](O)[C@@H](O)C([O-])=O.OC[C@@H](O)[C@@H](O)[C@H](O)[C@@H](O)C([O-])=O\tToxic\n",
            "[Be++].O.O.O.O.[O-]S([O-])(=O)=O\tNontoxic\n",
            "[Br-].[Br-].C[N+](C)(C)CCCCCCCCCC[N+](C)(C)C\tNontoxic\n",
            "[Br-].[Br-].C[N+](C)(CCCCCC[N+](C)(C)C1C2=C(C=CC=C2)C2=C1C=CC=C2)C1C2=C(C=CC=C2)C2=C1C=CC=C2\tNontoxic\n",
            "[Br-].[Br-].CC(=O)O[C@H]1[C@H](C[C@H]2[C@@H]3CC[C@H]4C[C@H](OC(C)=O)[C@H](C[C@]4(C)[C@H]3CC[C@]12C)[N+]1(C)CCCCC1)[N+]1(C)CCCCC1\tToxic\n",
            "[Br-].[Br-].CC(=O)O[C@H]1[C@H](C[C@H]2[C@@H]3CC[C@H]4C[C@H](OC(C)=O)[C@H](C[C@]4(C)[C@H]3CC[C@]12C)N1CC[N+](C)(C)CC1)N1CC[N+](C)(C)CC1\tToxic\n",
            "\n"
          ]
        }
      ]
    },
    {
      "cell_type": "code",
      "source": [
        "# The values are separated by tabs (\\t). Let's split each of the lines by tabs so\n",
        "# we can more easily access the values individually.\n",
        "data = [line.strip().split(\"\\t\") for line in lines]\n",
        "\n",
        "data[:3]"
      ],
      "metadata": {
        "colab": {
          "base_uri": "https://localhost:8080/"
        },
        "id": "yfA9M0ASOIJE",
        "outputId": "5cb75b0b-0b19-41ab-c5cc-127ab45b7aa7"
      },
      "execution_count": 5,
      "outputs": [
        {
          "output_type": "execute_result",
          "data": {
            "text/plain": [
              "[['[Ag+].NC1=CC=C(C=C1)S(=O)(=O)\\\\N=C1\\\\[N-]C=CC=N1', 'Toxic'],\n",
              " ['[Al+3].CCC(C)[O-].CCC(C)[O-].CCOC(=O)\\\\C=C(\\\\C)[O-]', 'Nontoxic'],\n",
              " ['[As]#[In]', 'Nontoxic']]"
            ]
          },
          "metadata": {},
          "execution_count": 5
        }
      ]
    },
    {
      "cell_type": "code",
      "source": [
        "# Question #1: How many toxic molecules are there?\n",
        "# Question #2: How many non-toxic molecules are there?\n",
        "\n",
        "# Put the toxic molecules in a list called `toxic`, and the non-toxic molecules\n",
        "# in a list called `non_toxic`.\n",
        "\n",
        "toxic = ???\n",
        "non_toxic = ???"
      ],
      "metadata": {
        "colab": {
          "base_uri": "https://localhost:8080/",
          "height": 108
        },
        "id": "CiDeM4_ZOOcx",
        "outputId": "a0057daa-4621-4f25-975f-be7f59df4969"
      },
      "execution_count": 6,
      "outputs": [
        {
          "output_type": "error",
          "ename": "SyntaxError",
          "evalue": "invalid syntax (<ipython-input-6-5cceeca5aec8>, line 7)",
          "traceback": [
            "\u001b[0;36m  File \u001b[0;32m\"<ipython-input-6-5cceeca5aec8>\"\u001b[0;36m, line \u001b[0;32m7\u001b[0m\n\u001b[0;31m    toxic = ???\u001b[0m\n\u001b[0m            ^\u001b[0m\n\u001b[0;31mSyntaxError\u001b[0m\u001b[0;31m:\u001b[0m invalid syntax\n"
          ]
        }
      ]
    },
    {
      "cell_type": "code",
      "source": [
        "# To balance our set, let's consider 1500 toxic compounds and 1500 non-toxic\n",
        "# compounds.\n",
        "\n",
        "data2 = toxic[:1500] + non_toxic[:1500]\n",
        "\n",
        "# Suffle the data. (Note: I'm using an explicit seed to ensure all students get\n",
        "# the same shuffle).\n",
        "\n",
        "import random\n",
        "\n",
        "# Be sure to keep this seed. It makes the random generated derterministic.\n",
        "random.seed(123)\n",
        "\n",
        "random.shuffle(data2)\n",
        "\n",
        "print(len(data2))"
      ],
      "metadata": {
        "id": "4rd_uz2cOPvm"
      },
      "execution_count": null,
      "outputs": []
    },
    {
      "cell_type": "code",
      "source": [
        "# Let's now divide the data into smiles and labels.\n",
        "\n",
        "smiles = [row[0] for row in data2]\n",
        "labels = [row[1] for row in data2]\n",
        "\n",
        "print(smiles[:5])\n",
        "print(labels[:5])"
      ],
      "metadata": {
        "id": "CXYfLBLRORJg"
      },
      "execution_count": null,
      "outputs": []
    },
    {
      "cell_type": "code",
      "source": [
        "# `smiles` is a list of SMILES strings. Let's convert these to RDKit molecules.\n",
        "# Store the molecules in a variable called 'mols`. NOTE: You may ignore any\n",
        "# warning messages.\n",
        "\n",
        "from rdkit import Chem\n",
        "\n",
        "mols = ???"
      ],
      "metadata": {
        "id": "LwPWim1gOSRg"
      },
      "execution_count": null,
      "outputs": []
    },
    {
      "cell_type": "code",
      "source": [
        "# Some of the molecules include salts. Let's remove these and store the desalted\n",
        "# molecules in `mols_desalted`.\n",
        "\n",
        "from rdkit.Chem import SaltRemover\n",
        "\n",
        "remover = SaltRemover.SaltRemover()\n",
        "mols_desalted = ???"
      ],
      "metadata": {
        "id": "g9qzn13nOUBA"
      },
      "execution_count": null,
      "outputs": []
    },
    {
      "cell_type": "code",
      "source": [
        "# Now calculate the MACCS keys for each molecule in `mols_desalted`. Store the\n",
        "# keys in a variable called `maccs_keys`.\n",
        "\n",
        "from rdkit.Chem import MACCSkeys\n",
        "\n",
        "maccs_keys = ???"
      ],
      "metadata": {
        "id": "Z8z3cIqWOVM3"
      },
      "execution_count": null,
      "outputs": []
    },
    {
      "cell_type": "code",
      "source": [
        "# Convert the maccs_keys entries to numpy arrays. Store the arrays in a variable\n",
        "# called `maccs_keys_np`. This conversion is necessary because the sklearn\n",
        "# classifiers require numpy arrays as input.\n",
        "\n",
        "import numpy\n",
        "\n",
        "maccs_keys_np = numpy.array([numpy.array(key) for key in maccs_keys])"
      ],
      "metadata": {
        "id": "y96mBPpHOW7F"
      },
      "execution_count": null,
      "outputs": []
    },
    {
      "cell_type": "code",
      "source": [
        "# The labels are strings. Let's convert them to integers. \"Toxic\" should be 1,\n",
        "# and \"Nontoxic\" should be 0. Store the numeric labels in a variable called\n",
        "# `labels_num`.\n",
        "\n",
        "labels_num = ???"
      ],
      "metadata": {
        "id": "GTd_Uf3sOYJk"
      },
      "execution_count": null,
      "outputs": []
    },
    {
      "cell_type": "code",
      "source": [
        "# Now let's split the data into training and test sets. Use 80% of the data for\n",
        "# training and 20% for testing. Store the training and test sets in variables\n",
        "# called `maccs_keys_train`, `maccs_keys_test`, `labels_train`, and\n",
        "# `labels_test`.\n",
        "\n",
        "from sklearn.model_selection import train_test_split\n",
        "\n",
        "maccs_keys_train, maccs_keys_test, labels_train, labels_test = train_test_split(maccs_keys_np, labels_num, test_size=0.2)"
      ],
      "metadata": {
        "id": "pDXukYSGOZf7"
      },
      "execution_count": null,
      "outputs": []
    },
    {
      "cell_type": "code",
      "source": [
        "# Create a random-forest classifier. Train it on the training set to predict\n",
        "# whether a molecule is toxic or not. Store the trained classifier in a variable\n",
        "# called `model`.\n",
        "\n",
        "from sklearn.ensemble import RandomForestClassifier\n",
        "\n",
        "model = RandomForestClassifier(random_state=123)\n",
        "model.fit(???)"
      ],
      "metadata": {
        "id": "rQKCdnyTOaoS"
      },
      "execution_count": null,
      "outputs": []
    },
    {
      "cell_type": "code",
      "source": [
        "# Question #3: How often does the model predict the correct answer on the training set?\n",
        "# Question #4: How often does the model predict the correct answer on the test set?\n",
        "\n",
        "# Hint: Use the `score` method of the classifier (`model.score()`)"
      ],
      "metadata": {
        "id": "ggw_0NKQOc61"
      },
      "execution_count": null,
      "outputs": []
    },
    {
      "cell_type": "code",
      "source": [
        "# Question #5: Why is accuracy on the training set better than accuracy on the test set?"
      ],
      "metadata": {
        "id": "uWR13080Od6J"
      },
      "execution_count": null,
      "outputs": []
    }
  ]
}