{
 "cells": [
  {
   "cell_type": "markdown",
   "metadata": {},
   "source": [
    "## Overview\n",
    "\n",
    "In structural biology, we often analyze large numbers of atomic distances in\n",
    "protein structures. For this assignment, you'll first analyze a serial\n",
    "implementation, then develop a parallel version to process simulated structural\n",
    "data efficiently."
   ]
  },
  {
   "cell_type": "markdown",
   "metadata": {},
   "source": [
    "### Part 1: Understanding Serial Implementation\n",
    "\n",
    "First, run this serial implementation in Google Colab and answer the questions\n",
    "in Canvas:"
   ]
  },
  {
   "cell_type": "code",
   "execution_count": 5,
   "metadata": {},
   "outputs": [
    {
     "name": "stdout",
     "output_type": "stream",
     "text": [
      "Percentage: 10.0079\n",
      "Time taken: 0.45673298835754395 seconds\n"
     ]
    }
   ],
   "source": [
    "import random    # For generating random numbers\n",
    "import time      # For measuring execution speed\n",
    "\n",
    "# Set random seed to ensure we all get the same random numbers. By tradition, we\n",
    "# use 42, though there is no special meaning to this number.\n",
    "random.seed(42)\n",
    "\n",
    "# Generate test data: 10 million random atomic distances between 0 and 10\n",
    "# Angstroms\n",
    "distances = []\n",
    "for _ in range(10000000):\n",
    "    distances.append(random.uniform(0, 10))\n",
    "\n",
    "def analyze_distances_serial(distances):\n",
    "    \"\"\"\n",
    "    Analyze a list of distances to find what percentage fall within\n",
    "    a specific range (2.5-3.5Å).\n",
    "    \n",
    "    Args:\n",
    "        distances: list of float values representing atomic distances\n",
    "    \n",
    "    Returns:\n",
    "        float: percentage of distances that fall within the target range\n",
    "    \"\"\"\n",
    "    # Count how many distances are between 2.5 and 3.5 Angstroms\n",
    "    count = 0\n",
    "    for distance in distances:\n",
    "        if (distance >= 2.5) and (distance <= 3.5):\n",
    "            count += 1\n",
    "    \n",
    "    # Calculate what percentage of all distances fall in our range\n",
    "    percentage = (count / len(distances)) * 100\n",
    "    \n",
    "    return percentage\n",
    "\n",
    "# Record the start time\n",
    "start_time = time.time()\n",
    "\n",
    "# Run our analysis\n",
    "result = analyze_distances_serial(distances)\n",
    "\n",
    "# Calculate execution time\n",
    "end_time = time.time()\n",
    "serial_time = end_time - start_time\n",
    "\n",
    "# Print the results\n",
    "print(f\"Percentage: {result}\")\n",
    "print(f\"Time taken: {serial_time} seconds\")"
   ]
  },
  {
   "cell_type": "markdown",
   "metadata": {},
   "source": [
    "### Multiple Choice Questions !!! TO ANSWER IN CANVAS !!!\n",
    "\n",
    "1. If processing 10 million distances takes approximately 0.8 seconds, what\n",
    "   would be the expected processing time for analyzing 30 million distances?\n",
    "\n",
    "2. Consider this modified version of the code with only a few values:\n",
    "\n",
    "```python\n",
    "distances = [2.0, 2.5, 3.0, 3.5, 4.0]\n",
    "for d in distances:\n",
    "    in_range = (distance >= 2.5) and (distance <= 3.5)\n",
    "    print(f\"Distance {d}: {in_range}\")\n",
    "```\n",
    "\n",
    "If `d` is 2.0, `in_range` must be what value?\n",
    "\n",
    "3. If this code were to be converted to a parallel implementation, it would be:\n",
    "\n",
    "- Difficult to parallelize because each count depends on the previous count\n",
    "- An example of an \"embarrassingly parallel\" problem because the list can be split with no dependencies\n",
    "- Require complex synchronization between processes to maintain count accuracy\n",
    "- Need to process the distances in sorted order\n",
    "\n",
    "4. If you were to change 10000000 to 100 in the data generation loop, what would happen to the execution time?"
   ]
  },
  {
   "cell_type": "markdown",
   "metadata": {},
   "source": []
  }
 ],
 "metadata": {
  "kernelspec": {
   "display_name": "base",
   "language": "python",
   "name": "python3"
  },
  "language_info": {
   "codemirror_mode": {
    "name": "ipython",
    "version": 3
   },
   "file_extension": ".py",
   "mimetype": "text/x-python",
   "name": "python",
   "nbconvert_exporter": "python",
   "pygments_lexer": "ipython3",
   "version": "3.9.7"
  }
 },
 "nbformat": 4,
 "nbformat_minor": 2
}
