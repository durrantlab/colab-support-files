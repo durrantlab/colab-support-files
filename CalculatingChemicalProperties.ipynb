{
  "cells": [
    {
      "cell_type": "code",
      "execution_count": null,
      "metadata": {
        "id": "9jVpbTMh8Rx0"
      },
      "outputs": [],
      "source": [
        "# Install conda (to install rdkit)\n",
        "!pip install -q condacolab\n",
        "import condacolab\n",
        "condacolab.install()"
      ]
    },
    {
      "cell_type": "code",
      "source": [
        "# Now install rdkit. Can take a bit.\n",
        "!mamba install -c conda-forge rdkit"
      ],
      "metadata": {
        "id": "69sHox9S4gEN"
      },
      "execution_count": null,
      "outputs": []
    },
    {
      "cell_type": "code",
      "execution_count": null,
      "metadata": {
        "id": "HMf782aH-0Bu"
      },
      "outputs": [],
      "source": [
        "# Download the SMILES strings of many FDA-approved drugs\n",
        "\n",
        "import urllib.request\n",
        "\n",
        "url = 'https://raw.githubusercontent.com/durrantlab/colab-support-files/refs/heads/main/many_fda_approved_drugs.smi'\n",
        "urllib.request.urlretrieve(url, \"many_fda_approved_drugs.smi\")"
      ]
    },
    {
      "cell_type": "code",
      "source": [
        "# Import rdkit\n",
        "\n",
        "from rdkit import Chem\n",
        "from rdkit.Chem import AllChem\n",
        "from rdkit.Chem import Draw\n",
        "from rdkit import DataStructs\n",
        "from rdkit.ML.Cluster import Butina\n",
        "from rdkit.Chem import Crippen\n",
        "from rdkit.Chem import Lipinski\n",
        "import pandas as pd"
      ],
      "metadata": {
        "id": "gRL8IPMO4iNu"
      },
      "execution_count": null,
      "outputs": []
    },
    {
      "cell_type": "code",
      "execution_count": null,
      "metadata": {
        "id": "bVRjeeQ3_7xF"
      },
      "outputs": [],
      "source": [
        "# Load the SMILES strings\n",
        "with open(\"many_fda_approved_drugs.smi\") as f:\n",
        "  lines = f.readlines()\n",
        "\n",
        "# Show the first 5 lines. Notice that the SMILES string and molecule name are\n",
        "# separated by a tab (\"\\t\").\n",
        "lines[:5]"
      ]
    },
    {
      "cell_type": "code",
      "execution_count": null,
      "metadata": {
        "id": "8X8Gyp04CFP-"
      },
      "outputs": [],
      "source": [
        "# Go through each line, and keep only the portion before the tab (the SMILES\n",
        "# string).\n",
        "\n",
        "smiles = [l.split(\"\\t\")[0] for l in lines]\n",
        "\n",
        "# Look at first 5\n",
        "smiles[:5]"
      ]
    },
    {
      "cell_type": "code",
      "execution_count": null,
      "metadata": {
        "id": "0hV4J9mECNbH"
      },
      "outputs": [],
      "source": [
        "# Convert these smiles into RDKit molecule objects.\n",
        "\n",
        "\n",
        "mols = [Chem.MolFromSmiles(s) for s in smiles]\n",
        "\n",
        "# View the first five\n",
        "mols[:5]"
      ]
    },
    {
      "cell_type": "code",
      "execution_count": null,
      "metadata": {
        "id": "1BVeOSEqFyd4"
      },
      "outputs": [],
      "source": [
        "# Question 1 (answer in Canvas): How many molecules are in mols?\n",
        "\n",
        "# Store this number in a variable called `total_cnt`.\n",
        "\n",
        "# total_cnt ="
      ]
    },
    {
      "cell_type": "code",
      "execution_count": null,
      "metadata": {
        "id": "u8Ia836TJNm9"
      },
      "outputs": [],
      "source": [
        "# Question 2 (answer in Canvas): What is the logP value of the molecule with\n",
        "# the highest (most lipophilic) logP? Use the Crippen.MolLogP function to\n",
        "# calculate logP."
      ]
    },
    {
      "cell_type": "code",
      "execution_count": null,
      "metadata": {
        "id": "swkOgl7UF7TJ"
      },
      "outputs": [],
      "source": [
        "# Question 3 (answer in Canvas): How many of these compounds PASS Lipinski's\n",
        "# rule of fives?\n",
        "\n",
        "# HINT: Remember, Lipinski allows for 1 violation.\n",
        "# HINT: See the Colab notebook from last lecture:\n",
        "#     https://colab.research.google.com/github/durrantlab/colab-support-files/blob/main/cheminformatics1-2.ipynb\n",
        "\n",
        "# Store the number of compounds that pass in a variable called `cnt`\n",
        "\n",
        "# cnt ="
      ]
    },
    {
      "cell_type": "code",
      "execution_count": null,
      "metadata": {
        "id": "bbXZQmjhHhiL"
      },
      "outputs": [],
      "source": [
        "# What percentage of these drugs pass Lipinski's rules?\n",
        "\n",
        "100 * cnt/total_cnt"
      ]
    },
    {
      "cell_type": "code",
      "execution_count": null,
      "metadata": {
        "id": "Qv_UtVQHIImZ"
      },
      "outputs": [],
      "source": [
        "# Question 4 (answer in Canvas): How many of these approved drugs have a\n",
        "# benzene (\"c1ccccc1\") substructure?\n",
        "\n",
        "# HINT: See the Colab notebook from last lecture:\n",
        "#     https://colab.research.google.com/github/durrantlab/colab-support-files/blob/main/cheminformatics1-2.ipynb"
      ]
    },
    {
      "cell_type": "code",
      "execution_count": null,
      "metadata": {
        "id": "m6fwsaHVI4Y4"
      },
      "outputs": [],
      "source": [
        "# Question 5 (answer in Canvas): How many of these approved drugs have a\n",
        "# quartinary amine (\"[N+](C)(C)(C)C\") substructure?\n",
        "\n",
        "# HINT: See the Colab notebook from last lecture:\n",
        "#     https://colab.research.google.com/github/durrantlab/colab-support-files/blob/main/cheminformatics1-2.ipynb"
      ]
    }
  ],
  "metadata": {
    "colab": {
      "provenance": []
    },
    "kernelspec": {
      "display_name": "my-rdkit-env",
      "language": "python",
      "name": "python3"
    },
    "language_info": {
      "codemirror_mode": {
        "name": "ipython",
        "version": 3
      },
      "file_extension": ".py",
      "mimetype": "text/x-python",
      "name": "python",
      "nbconvert_exporter": "python",
      "pygments_lexer": "ipython3",
      "version": "3.7.6"
    },
    "vscode": {
      "interpreter": {
        "hash": "206168d7fe8cb65e1256d1ae356f5ff7c986d85b7d4db7b07ccc5ecf9c87a9c1"
      }
    }
  },
  "nbformat": 4,
  "nbformat_minor": 0
}