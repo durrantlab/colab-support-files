{
 "cells": [
  {
   "cell_type": "markdown",
   "metadata": {},
   "source": [
    "# Homework Assignment: Clustering a Single Atom's Trajectory\n",
    "\n",
    "## Introduction\n",
    "\n",
    "In computational biology, clustering is often used to identify distinct protein\n",
    "conformations from simulation trajectories. Normally, one would first align the\n",
    "trajectory to remove overall translations and rotations so that only internal\n",
    "motions are considered. In this assignment, however, you will work with a\n",
    "simplified scenario: a simulation of a single atom moving in a plane. The 2D\n",
    "points provided below represent the positions the atom visits over time. Your\n",
    "goal is to use clustering algorithms from scikit-learn to determine which\n",
    "regions of the space the atom samples most frequently."
   ]
  },
  {
   "cell_type": "code",
   "execution_count": null,
   "metadata": {},
   "outputs": [],
   "source": [
    "# Part 1: Data Generation\n",
    "\n",
    "# The points below represent the trajectory of a single atom moving through 2D\n",
    "# space over time. Each point corresponds to the atom's position at a particular\n",
    "# time. Colors represent simulation time, ranging from red (0 ns) through white\n",
    "# (~50 ns) to blue (100 ns). This kind of data is often used in computational\n",
    "# biology to track atomic or molecular motion. You will apply clustering to\n",
    "# determine which regions of space the atom tends to sample more frequently.\n",
    "\n",
    "import numpy as np\n",
    "import matplotlib.pyplot as plt\n",
    "\n",
    "# Set a fixed random seed\n",
    "np.random.seed(42)\n",
    "\n",
    "# Simulate a continuous 2D random walk representing atomic movement\n",
    "n_points = 200\n",
    "steps = np.random.randn(n_points, 2) * 0.2  # small steps for smooth movement\n",
    "data = np.cumsum(steps, axis=0)  # accumulate steps to simulate trajectory\n",
    "\n",
    "# Simulated time: 0 ns to 100 ns\n",
    "times = np.linspace(0, 100, n_points)\n",
    "\n",
    "# Plot the trajectory with color mapped to simulation time\n",
    "plt.figure(figsize=(6, 5))\n",
    "scatter = plt.scatter(data[:, 0], data[:, 1], c=times, cmap='RdBu_r')\n",
    "plt.title(\"Simulated Atom Trajectory (2D)\")\n",
    "plt.xlabel(\"X-coordinate\")\n",
    "plt.ylabel(\"Y-coordinate\")\n",
    "cbar = plt.colorbar(scatter, label=\"Simulation Time (ns)\")\n",
    "plt.show()"
   ]
  },
  {
   "cell_type": "code",
   "execution_count": null,
   "metadata": {},
   "outputs": [],
   "source": [
    "# Part 2: K-means Clustering\n",
    "\n",
    "# Cluster the data using the K-means algorithm with 3 clusters. Complete the\n",
    "# missing code indicated by `# YOUR CODE HERE`\n",
    "\n",
    "from sklearn.cluster import KMeans\n",
    "\n",
    "# Initialize KMeans with 3 clusters\n",
    "kmeans = # YOUR CODE HERE\n",
    "\n",
    "# Fit the model and predict cluster labels\n",
    "labels_kmeans = # YOUR CODE HERE\n",
    "\n",
    "# Plot the K-means clustering results\n",
    "plt.figure(figsize=(6, 5))\n",
    "plt.scatter(data[:, 0], data[:, 1], c=labels_kmeans, cmap='viridis')\n",
    "plt.title(\"K-means Clustering\")\n",
    "plt.xlabel(\"X-coordinate\")\n",
    "plt.ylabel(\"Y-coordinate\")\n",
    "plt.show()"
   ]
  },
  {
   "cell_type": "code",
   "execution_count": null,
   "metadata": {},
   "outputs": [],
   "source": [
    "# Part 3: Affinity Propagation Clustering\n",
    "\n",
    "# Use Affinity Propagation with a damping factor of 0.8 and a preference value\n",
    "# of -50. Complete the code below by filling in the missing part.\n",
    "\n",
    "from sklearn.cluster import AffinityPropagation\n",
    "\n",
    "# Initialize AffinityPropagation with damping=0.8 and preference=-50\n",
    "affprop = # YOUR CODE HERE\n",
    "\n",
    "# Fit the model and predict cluster labels\n",
    "labels_affprop = # YOUR CODE HERE\n",
    "\n",
    "# Plot the Affinity Propagation clustering results\n",
    "plt.figure(figsize=(6, 5))\n",
    "plt.scatter(data[:, 0], data[:, 1], c=labels_affprop, cmap='viridis')\n",
    "plt.title(\"Affinity Propagation Clustering\")\n",
    "plt.xlabel(\"X-coordinate\")\n",
    "plt.ylabel(\"Y-coordinate\")\n",
    "plt.show()\n"
   ]
  },
  {
   "cell_type": "code",
   "execution_count": null,
   "metadata": {},
   "outputs": [],
   "source": [
    "# Part 4: Agglomerative Clustering\n",
    "\n",
    "# Use Agglomerative Clustering to divide the atom's trajectory into 4 clusters.\n",
    "# Complete the missing part of the code below.\n",
    "\n",
    "from sklearn.cluster import AgglomerativeClustering\n",
    "\n",
    "# Initialize Agglomerative Clustering with 4 clusters\n",
    "agglo = # YOUR CODE HERE\n",
    "\n",
    "# Fit the model and predict cluster labels\n",
    "labels_agglo = # YOUR CODE HERE\n",
    "\n",
    "# Plot the Agglomerative Clustering results\n",
    "plt.figure(figsize=(6, 5))\n",
    "plt.scatter(data[:, 0], data[:, 1], c=labels_agglo, cmap='viridis')\n",
    "plt.title(\"Agglomerative Clustering\")\n",
    "plt.xlabel(\"X-coordinate\")\n",
    "plt.ylabel(\"Y-coordinate\")\n",
    "plt.show()\n"
   ]
  }
 ],
 "metadata": {
  "kernelspec": {
   "display_name": "Python 3",
   "language": "python",
   "name": "python3"
  },
  "language_info": {
   "codemirror_mode": {
    "name": "ipython",
    "version": 3
   },
   "file_extension": ".py",
   "mimetype": "text/x-python",
   "name": "python",
   "nbconvert_exporter": "python",
   "pygments_lexer": "ipython3",
   "version": "3.9.16"
  }
 },
 "nbformat": 4,
 "nbformat_minor": 2
}
