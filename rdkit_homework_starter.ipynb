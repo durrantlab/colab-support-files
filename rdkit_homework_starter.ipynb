{
  "cells": [
    {
      "cell_type": "markdown",
      "source": [
        "# Run the below cells to install rdkit and load a library of molecules"
      ],
      "metadata": {
        "id": "tZvWwyKSmhgI"
      }
    },
    {
      "cell_type": "code",
      "source": [
        "# Install conda (to install rdkit)\n",
        "!pip install -q condacolab\n",
        "import condacolab\n",
        "condacolab.install()"
      ],
      "metadata": {
        "id": "-UhaXjYQ3nwM"
      },
      "execution_count": null,
      "outputs": []
    },
    {
      "cell_type": "code",
      "source": [
        "# Now install rdkit. Can take a bit.\n",
        "!mamba install -c conda-forge rdkit\n"
      ],
      "metadata": {
        "id": "KEDzh15_3vi5"
      },
      "execution_count": null,
      "outputs": []
    },
    {
      "cell_type": "code",
      "execution_count": null,
      "metadata": {
        "id": "_fd1mKLe3YeP"
      },
      "outputs": [],
      "source": [
        "# Import rdkit\n",
        "\n",
        "from rdkit import Chem\n",
        "from rdkit.Chem import AllChem\n",
        "from rdkit.Chem import Draw\n",
        "from rdkit import DataStructs\n",
        "from rdkit.ML.Cluster import Butina\n",
        "from rdkit.Chem import Crippen\n",
        "from rdkit.Chem import Lipinski\n",
        "import pandas as pd"
      ]
    },
    {
      "cell_type": "code",
      "execution_count": null,
      "metadata": {
        "id": "uSAG4MW03YeQ"
      },
      "outputs": [],
      "source": [
        "# You can also load molecules from a file in other formats (e.g., SDF). Note\n",
        "# that SDF files can contain multiple molecules.\n",
        "\n",
        "# Download mol.sdf\n",
        "import requests\n",
        "url = 'https://raw.githubusercontent.com/durrantlab/colab-support-files/refs/heads/main/mols.sdf'\n",
        "response = requests.get(url)\n",
        "sdf_contents = response.text\n",
        "with open(\"mols.sdf\", \"w\") as f:\n",
        "    f.write(sdf_contents)\n",
        "\n",
        "# Load the SDF file\n",
        "suppl = Chem.SDMolSupplier('mols.sdf')\n",
        "suppl"
      ]
    },
    {
      "cell_type": "code",
      "execution_count": null,
      "metadata": {
        "id": "t2WSZZAz3YeQ"
      },
      "outputs": [],
      "source": [
        "# If any molecules can't be read, they will be None. Filter them out.\n",
        "ms = [x for x in suppl if x is not None]\n",
        "\n",
        "# How many molecules did we get?\n",
        "print(len(ms))"
      ]
    }
  ],
  "metadata": {
    "kernelspec": {
      "display_name": "my-rdkit-env",
      "language": "python",
      "name": "python3"
    },
    "language_info": {
      "codemirror_mode": {
        "name": "ipython",
        "version": 3
      },
      "file_extension": ".py",
      "mimetype": "text/x-python",
      "name": "python",
      "nbconvert_exporter": "python",
      "pygments_lexer": "ipython3",
      "version": "3.7.6"
    },
    "orig_nbformat": 4,
    "vscode": {
      "interpreter": {
        "hash": "206168d7fe8cb65e1256d1ae356f5ff7c986d85b7d4db7b07ccc5ecf9c87a9c1"
      }
    },
    "colab": {
      "provenance": []
    }
  },
  "nbformat": 4,
  "nbformat_minor": 0
}