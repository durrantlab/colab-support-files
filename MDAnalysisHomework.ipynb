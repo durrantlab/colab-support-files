{
  "nbformat": 4,
  "nbformat_minor": 0,
  "metadata": {
    "colab": {
      "provenance": []
    },
    "kernelspec": {
      "name": "python3",
      "display_name": "Python 3"
    },
    "language_info": {
      "name": "python"
    }
  },
  "cells": [
    {
      "cell_type": "code",
      "execution_count": null,
      "metadata": {
        "id": "YrtNfcow3IP-"
      },
      "outputs": [],
      "source": [
        "# Install MDAnalysis\n",
        "!pip install --upgrade MDAnalysis\n",
        "!pip install py3Dmol"
      ]
    },
    {
      "cell_type": "code",
      "source": [
        "import requests\n",
        "import MDAnalysis as mda\n",
        "import matplotlib.pyplot as plt\n",
        "import numpy as np\n",
        "from MDAnalysis.analysis import rms\n",
        "from MDAnalysis.analysis import align, rms\n",
        "import py3Dmol\n",
        "from tqdm import tqdm"
      ],
      "metadata": {
        "id": "ip1daTU63O_0"
      },
      "execution_count": null,
      "outputs": []
    },
    {
      "cell_type": "code",
      "source": [
        "# Download the MD trajectory\n",
        "url = 'https://github.com/durrantlab/colab-support-files/raw/main/hxk2_sim.zip'\n",
        "file_path = 'hxk2_sim.zip'\n",
        "response = requests.get(url)\n",
        "\n",
        "# Check if the request was successful (status code 200)\n",
        "if response.status_code == 200:\n",
        "    # Open the file in binary write mode and save the content to the file\n",
        "    with open(file_path, 'wb') as file:\n",
        "        file.write(response.content)\n",
        "    print(f\"File downloaded successfully and saved as {file_path}\")\n",
        "else:\n",
        "    print(f\"Failed to download the file. Status code: {response.status_code}\")"
      ],
      "metadata": {
        "id": "vBE99DFn8fp8"
      },
      "execution_count": null,
      "outputs": []
    },
    {
      "cell_type": "code",
      "source": [
        "# Uncompress the file\n",
        "!rm -f hxk2_first_frame.pdb hxk2.dcd\n",
        "!unzip hxk2_sim.zip"
      ],
      "metadata": {
        "id": "Lo0gRzbO8tif"
      },
      "execution_count": null,
      "outputs": []
    },
    {
      "cell_type": "code",
      "source": [
        "# Load the trajectory\n",
        "\n",
        "# Create a Universe using the PDB file as the topology and the DCD file as the\n",
        "# trajectory. The Universe object in MDAnalysis, which represents the entire\n",
        "# system of the simulation, including atoms, residues, and segments.\n",
        "u = mda.Universe(\"hxk2_first_frame.pdb\", \"hxk2.dcd\")\n",
        "\n",
        "# Now you can perform various analyses on the Universe. For example, print the\n",
        "# number of atoms in the Universe.\n",
        "print(f\"Number of atoms in the Universe: {len(u.atoms)}\")"
      ],
      "metadata": {
        "id": "k8BAr10o8vxH"
      },
      "execution_count": null,
      "outputs": []
    },
    {
      "cell_type": "code",
      "source": [
        "# @title Save every tenth frame to single PDB files for quick visualization.\n",
        "\n",
        "# Loop through each frame in the trajectory\n",
        "for ts in tqdm(u.trajectory):\n",
        "    if ts.frame % 10 != 0:\n",
        "        continue\n",
        "    # Define the filename for the current frame\n",
        "    # This creates filenames like \"frame_0.pdb\", \"frame_1.pdb\", etc.\n",
        "    filename = f\"frame_{ts.frame}.pdb\"\n",
        "\n",
        "    # Initialize a writer for each frame with the correct number of atoms\n",
        "    with mda.Writer(filename, u.atoms.n_atoms) as W:\n",
        "        # Write the current frame to a PDB file\n",
        "        W.write(u.atoms)\n"
      ],
      "metadata": {
        "cellView": "form",
        "id": "VwsdE4QLJGD5"
      },
      "execution_count": null,
      "outputs": []
    },
    {
      "cell_type": "code",
      "source": [
        "# @title Jacob Durrant's super simple trajectory visualizer\n",
        "frame = 410 # @param {type:\"slider\", min:0, max:430, step:10}\n",
        "# Visualize the trajectory\n",
        "\n",
        "view = py3Dmol.view(width=800, height=400)\n",
        "view.addModel(open(f'frame_{frame}.pdb', 'r').read(), 'pdb')\n",
        "view.setStyle({'cartoon': {'color': 'white', 'opacity':0.75}})\n",
        "view.addStyle({'resn': 'LIG'}, {'stick': {'radius':0.75}})\n",
        "# view.zoomTo({'resn': 'LIG'})\n",
        "view.zoomTo()\n",
        "view.show()\n"
      ],
      "metadata": {
        "cellView": "form",
        "id": "keOS3Y0YIAYr"
      },
      "execution_count": null,
      "outputs": []
    },
    {
      "cell_type": "code",
      "source": [
        "# Calculate the RMSD of the backbone atoms between the first frame of the\n",
        "# trajectory and each subsequent frame.\n",
        "\n",
        "# Select the protein backbone\n",
        "backbone = u.select_atoms('backbone')\n",
        "\n",
        "# Align the trajectory by the backbone\n",
        "aligner = align.AlignTraj(u, u, select='backbone', in_memory=True).run()\n",
        "\n",
        "# Use the MDAnalysis RMSD analysis class\n",
        "rmsd_analysis = rms.RMSD(backbone, ref_frame=0)\n",
        "rmsd_analysis.run()\n",
        "\n",
        "# Extract the time and RMSD values\n",
        "frame_nums = range(len(rmsd_analysis.results.rmsd))\n",
        "rmsd_values = rmsd_analysis.results.rmsd[:, 2]\n",
        "\n",
        "# Create the plot\n",
        "plt.figure(figsize=(8, 5))\n",
        "plt.plot(frame_nums, rmsd_values, 'r-', lw=2)\n",
        "plt.xlabel('Frame (#)', fontsize=14)\n",
        "plt.ylabel('RMSD (Å)', fontsize=14)\n",
        "plt.title('RMSD Over Time', fontsize=16)\n",
        "plt.grid(True)\n",
        "plt.show()"
      ],
      "metadata": {
        "id": "NuZM4rVW8_Td"
      },
      "execution_count": null,
      "outputs": []
    },
    {
      "cell_type": "code",
      "source": [
        "# Get the coordinates of the ligand's first atom.\n",
        "\n",
        "# Select the first ligand atom\n",
        "first_atom_lig = u.select_atoms('resname LIG')[0]\n",
        "\n",
        "# Collect the coordinates\n",
        "coords = []\n",
        "for ts in u.trajectory:\n",
        "    coords.append(first_atom_lig.position)\n",
        "\n",
        "# Convert it to a numpy array\n",
        "coords = np.array(coords)\n",
        "\n",
        "# Get the start coordinates as a reference\n",
        "start_coors = coords[0]\n",
        "\n",
        "# Plot the distance between that starting coordinate and the same atom in the\n",
        "# subsequent frames. Remember the equation for distance:\n",
        "# https://en.wikipedia.org/wiki/Distance#Straight-line_or_Euclidean_distance\n",
        "\n",
        "dists = []\n",
        "for coor in coords:\n",
        "  # YOUR CALCULATIONS GO HERE\n",
        "  dist = # YOUR FINAL DISTANCE VALUE GOES HERE\n",
        "  dists.append(dist)\n",
        "\n",
        "# Create the plot\n",
        "plt.figure(figsize=(8, 5))\n",
        "plt.plot(frame_nums, dists, 'r-', lw=2)\n",
        "plt.xlabel('Time (ps)', fontsize=14)\n",
        "plt.ylabel('Distance (Å)', fontsize=14)\n",
        "plt.title('Distance Over Time', fontsize=16)\n",
        "plt.grid(True)\n",
        "plt.show()\n"
      ],
      "metadata": {
        "id": "ZMKQyCep_-Ph"
      },
      "execution_count": null,
      "outputs": []
    }
  ]
}