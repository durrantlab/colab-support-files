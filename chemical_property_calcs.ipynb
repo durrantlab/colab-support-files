{
 "cells": [
  {
   "cell_type": "code",
   "execution_count": 1,
   "metadata": {},
   "outputs": [],
   "source": [
    "from rdkit import Chem\n",
    "from rdkit.Chem import AllChem\n",
    "from rdkit.Chem import Crippen\n",
    "from rdkit.Chem import Lipinski\n",
    "\n",
    "from rdkit.Chem import Draw\n",
    "from rdkit import DataStructs\n",
    "from rdkit.ML.Cluster import Butina\n",
    "import numpy"
   ]
  },
  {
   "cell_type": "code",
   "execution_count": 2,
   "metadata": {},
   "outputs": [],
   "source": [
    "# You can also load molecules from a file in other formats (e.g., SDF). Note\n",
    "# that SDF files can contain multiple molecules. \n",
    " \n",
    "# `suppl` is a generator that yields each molecule, one at a time.\n",
    "suppl = Chem.SDMolSupplier('mols.sdf')"
   ]
  },
  {
   "cell_type": "code",
   "execution_count": 3,
   "metadata": {},
   "outputs": [
    {
     "name": "stdout",
     "output_type": "stream",
     "text": [
      "118\n"
     ]
    }
   ],
   "source": [
    "# If any molecules can't be read, they will be None. Filter them out.\n",
    "ms = [x for x in suppl if x is not None]\n",
    "\n",
    "# How many molecules did we get?\n",
    "print(len(ms))"
   ]
  },
  {
   "cell_type": "code",
   "execution_count": 4,
   "metadata": {},
   "outputs": [
    {
     "data": {
      "image/png": "[encoded data removed]",
      "text/plain": [
       "<rdkit.Chem.rdchem.Mol at 0x7fe9c1839bc0>"
      ]
     },
     "execution_count": 4,
     "metadata": {},
     "output_type": "execute_result"
    }
   ],
   "source": [
    "# Show the first molecule. In this case, the molecules have 3D coordinates\n",
    "# assigned.\n",
    "ms[0]"
   ]
  },
  {
   "cell_type": "code",
   "execution_count": 5,
   "metadata": {},
   "outputs": [
    {
     "data": {
      "image/png": "[encoded data removed]",
      "text/plain": [
       "<rdkit.Chem.rdchem.Mol at 0x7fe9c1839bc0>"
      ]
     },
     "execution_count": 5,
     "metadata": {},
     "output_type": "execute_result"
    }
   ],
   "source": [
    "# To improve the drawing, let's calculate 2D coordiantes instead.\n",
    "for m in ms:\n",
    "    AllChem.Compute2DCoords(m)\n",
    "\n",
    "ms[0]"
   ]
  },
  {
   "cell_type": "code",
   "execution_count": 6,
   "metadata": {},
   "outputs": [],
   "source": [
    "# Use the Butina algorithm to cluster the compounds in the ms list. See\n",
    "# https://projects.volkamerlab.org/teachopencadd/talktorials/T005_compound_clustering.html\n",
    "\n",
    "# NOTE: I won't ask you how to run Butina using RDKit specifically. Good to\n",
    "# understand how Butina algorithm works generally, though.\n",
    "\n",
    "# Convert all the molecules to fingerprints\n",
    "fps = [Chem.RDKFingerprint(m) for m in ms]\n",
    "\n",
    "def tanimoto_distance_matrix(fp_list):\n",
    "    \"\"\"Calculate distance matrix for fingerprint list\"\"\"\n",
    "\n",
    "    dissimilarity_matrix = []\n",
    "    # Notice how we are deliberately skipping the first and last items in the\n",
    "    # list because we don't need to compare them against themselves\n",
    "    for i in range(1, len(fp_list)):\n",
    "        # Compare the current fingerprint against all the previous ones in the\n",
    "        # list\n",
    "        similarities = DataStructs.BulkTanimotoSimilarity(fp_list[i], fp_list[:i])\n",
    "        # Since we need a distance matrix, calculate 1-x for every element in\n",
    "        # similarity matrix\n",
    "        dissimilarity_matrix.extend([1 - x for x in similarities])\n",
    "    return dissimilarity_matrix\n",
    "\n",
    "distance_matrix = tanimoto_distance_matrix(fps)"
   ]
  },
  {
   "cell_type": "code",
   "execution_count": 7,
   "metadata": {},
   "outputs": [],
   "source": [
    "# Run the Butina algorithm to cluster the molecules. NOTE: I won't ask you how\n",
    "# to run Butina using RDKit specifically. Good to understand how Butina\n",
    "# algorithm works generally, though.\n",
    "\n",
    "clusters = Butina.ClusterData(distance_matrix, len(fps), 0.125, isDistData=True)\n",
    "clusters = sorted(clusters, key=len, reverse=True)"
   ]
  },
  {
   "cell_type": "code",
   "execution_count": 8,
   "metadata": {},
   "outputs": [
    {
     "name": "stdout",
     "output_type": "stream",
     "text": [
      "55\n"
     ]
    },
    {
     "data": {
      "text/plain": [
       "[(77, 0, 3, 10, 15, 20, 21, 34, 35, 42, 48, 57, 69, 80, 88, 93),\n",
       " (87, 29, 32, 39, 70, 84, 98, 102, 111),\n",
       " (67, 16, 30, 52, 59, 65, 85, 86, 103),\n",
       " (76, 2, 23, 40, 60, 63, 83, 106),\n",
       " (100, 1, 22, 33, 46, 94),\n",
       " (72, 24, 37, 50, 61),\n",
       " (49, 71, 107, 110),\n",
       " (14, 82, 116),\n",
       " (19, 79, 96),\n",
       " (97, 6, 54),\n",
       " (53, 8, 28),\n",
       " (114, 43),\n",
       " (91, 55),\n",
       " (73, 68),\n",
       " (66, 26),\n",
       " (13, 7),\n",
       " (56,),\n",
       " (117,),\n",
       " (115,),\n",
       " (113,),\n",
       " (112,),\n",
       " (109,),\n",
       " (108,),\n",
       " (105,),\n",
       " (104,),\n",
       " (101,),\n",
       " (99,),\n",
       " (95,),\n",
       " (92,),\n",
       " (90,),\n",
       " (89,),\n",
       " (81,),\n",
       " (78,),\n",
       " (75,),\n",
       " (74,),\n",
       " (64,),\n",
       " (62,),\n",
       " (58,),\n",
       " (51,),\n",
       " (47,),\n",
       " (45,),\n",
       " (44,),\n",
       " (41,),\n",
       " (38,),\n",
       " (36,),\n",
       " (31,),\n",
       " (27,),\n",
       " (25,),\n",
       " (18,),\n",
       " (17,),\n",
       " (12,),\n",
       " (11,),\n",
       " (9,),\n",
       " (5,),\n",
       " (4,)]"
      ]
     },
     "execution_count": 8,
     "metadata": {},
     "output_type": "execute_result"
    }
   ],
   "source": [
    "# `clusters` is a list of tuples, where each tuple contains the indices of the\n",
    "# molecules in that cluster.\n",
    "\n",
    "print(len(clusters))\n",
    "\n",
    "clusters"
   ]
  },
  {
   "cell_type": "code",
   "execution_count": 9,
   "metadata": {},
   "outputs": [
    {
     "data": {
      "text/plain": [
       "(77, 0, 3, 10, 15, 20, 21, 34, 35, 42, 48, 57, 69, 80, 88, 93)"
      ]
     },
     "execution_count": 9,
     "metadata": {},
     "output_type": "execute_result"
    }
   ],
   "source": [
    "# Let's look at the first cluster\n",
    "first_cluster = clusters[0]\n",
    "second_cluster = clusters[1]\n",
    "first_cluster"
   ]
  },
  {
   "cell_type": "code",
   "execution_count": 10,
   "metadata": {},
   "outputs": [
    {
     "data": {
      "image/png": "[encoded data removed]",
      "text/plain": [
       "<rdkit.Chem.rdchem.Mol at 0x7fe9c183e440>"
      ]
     },
     "execution_count": 10,
     "metadata": {},
     "output_type": "execute_result"
    }
   ],
   "source": [
    "# Look at the structures themselves\n",
    "ms[first_cluster[0]]"
   ]
  },
  {
   "cell_type": "code",
   "execution_count": 13,
   "metadata": {},
   "outputs": [
    {
     "data": {
      "image/png": "[encoded data removed]",
      "text/plain": [
       "<rdkit.Chem.rdchem.Mol at 0x7fe9c1839ee0>"
      ]
     },
     "execution_count": 13,
     "metadata": {},
     "output_type": "execute_result"
    }
   ],
   "source": [
    "ms[first_cluster[3]]"
   ]
  },
  {
   "cell_type": "code",
   "execution_count": 14,
   "metadata": {},
   "outputs": [
    {
     "name": "stdout",
     "output_type": "stream",
     "text": [
      "MW logP HBD HBA\n",
      "344.09 -0.67 3 6\n",
      "339.11 0.11 3 5\n",
      "366.11 0.4 2 6\n",
      "343.14 -0.3 2 6\n",
      "289.11 1.8 0 4\n",
      "266.11 -1.44 1 7\n",
      "258.05 -2.4 3 7\n",
      "364.16 -1.11 1 7\n",
      "198.04 -1.43 2 4\n",
      "183.0 -1.41 0 5\n",
      "344.09 -0.67 3 6\n",
      "274.07 -0.16 1 5\n",
      "212.07 -2.53 3 5\n",
      "364.16 -1.11 1 7\n",
      "332.09 -1.04 3 7\n",
      "316.09 -0.66 3 6\n",
      "320.04 -0.1 2 5\n",
      "396.06 -5.04 4 10\n",
      "312.1 -0.09 2 5\n",
      "363.99 0.01 2 5\n",
      "378.01 0.39 2 5\n",
      "316.09 -0.66 3 6\n",
      "325.09 -0.28 3 5\n",
      "456.16 2.36 2 6\n",
      "296.17 -1.53 3 5\n",
      "360.12 -0.26 3 7\n",
      "306.05 -0.31 2 6\n",
      "274.13 1.4 2 4\n",
      "184.02 -1.82 2 4\n",
      "346.1 -0.65 3 7\n",
      "354.0 0.55 2 5\n",
      "457.9 0.47 3 6\n",
      "346.1 -0.65 3 7\n",
      "325.09 -0.28 3 5\n",
      "316.09 -0.66 3 6\n",
      "318.09 -0.23 2 5\n",
      "368.09 0.65 2 5\n",
      "296.17 -1.53 3 5\n",
      "391.09 -0.74 3 9\n",
      "332.09 -1.04 3 7\n",
      "456.16 2.36 2 6\n",
      "378.11 1.04 2 6\n",
      "316.09 -0.66 3 6\n",
      "450.17 1.53 2 7\n",
      "260.1 1.64 0 2\n",
      "392.12 0.82 2 6\n",
      "339.11 0.11 3 5\n",
      "277.08 -0.61 2 5\n",
      "368.02 0.94 2 5\n",
      "258.14 2.2 0 2\n",
      "296.17 -1.53 3 5\n",
      "254.1 -0.32 1 5\n",
      "320.04 -0.1 2 5\n",
      "198.04 -1.43 2 4\n",
      "272.07 -2.14 3 7\n",
      "171.02 -1.4 1 5\n",
      "424.01 0.11 3 7\n",
      "378.01 0.39 2 5\n",
      "360.12 -0.35 2 7\n",
      "320.04 -0.1 2 5\n",
      "456.16 2.36 2 6\n",
      "296.17 -1.53 3 5\n",
      "288.09 0.22 1 5\n",
      "366.11 0.4 2 6\n",
      "290.08 2.46 0 2\n",
      "387.97 1.2 2 5\n",
      "306.05 -0.31 2 6\n",
      "354.0 0.55 2 5\n",
      "304.13 -0.06 2 5\n",
      "316.09 -0.66 3 6\n",
      "332.09 -1.04 3 7\n",
      "336.15 3.68 0 3\n",
      "296.17 -1.53 3 5\n",
      "304.13 -0.06 2 5\n",
      "336.04 -0.79 3 5\n",
      "361.08 -0.75 3 8\n",
      "394.14 1.18 2 6\n",
      "300.1 -0.37 2 5\n",
      "351.08 0.75 1 7\n",
      "363.99 0.01 2 5\n",
      "368.02 0.94 2 5\n",
      "287.08 -1.36 2 6\n",
      "362.1 -1.03 3 8\n",
      "380.12 0.79 2 6\n",
      "346.1 -0.65 3 7\n",
      "354.0 0.55 2 5\n",
      "387.97 1.2 2 5\n",
      "346.1 -0.65 3 7\n",
      "316.09 -0.66 3 6\n",
      "379.2 2.1 2 7\n",
      "457.12 1.78 3 7\n",
      "172.02 -2.49 2 5\n",
      "436.16 0.8 2 7\n",
      "368.02 0.94 2 5\n",
      "339.11 0.11 3 5\n",
      "380.0 -0.36 3 6\n",
      "363.99 0.01 2 5\n",
      "258.05 -2.4 3 7\n",
      "346.1 -0.65 3 7\n",
      "331.12 1.36 1 7\n",
      "325.09 -0.28 3 5\n",
      "351.11 4.44 2 3\n",
      "346.1 -0.65 3 7\n",
      "387.97 1.2 2 5\n",
      "406.14 1.21 2 6\n",
      "414.1 0.78 2 7\n",
      "380.12 0.79 2 6\n",
      "320.15 3.56 0 2\n",
      "361.08 -0.84 2 8\n",
      "160.05 -0.62 2 6\n",
      "320.15 3.56 0 2\n",
      "346.1 -0.65 3 7\n",
      "470.94 3.92 2 3\n",
      "318.09 -0.23 2 5\n",
      "450.17 1.53 2 7\n",
      "304.13 -0.34 2 5\n",
      "422.13 0.83 2 7\n",
      "442.09 1.02 2 7\n"
     ]
    }
   ],
   "source": [
    "# Calculate the molecular properties (logP, MW, number of hydrogen bond donors,\n",
    "# number of hydrogen bond acceptors).\n",
    "\n",
    "print(\"MW logP HBD HBA\")\n",
    "for m in ms:\n",
    "    print(\n",
    "        round(AllChem.CalcExactMolWt(m), 2),\n",
    "        round(Crippen.MolLogP(m), 2), \n",
    "        round(Lipinski.NumHDonors(m), 2), \n",
    "        round(Lipinski.NumHAcceptors(m), 2)\n",
    "    )\n"
   ]
  },
  {
   "cell_type": "code",
   "execution_count": null,
   "metadata": {},
   "outputs": [],
   "source": []
  }
 ],
 "metadata": {
  "kernelspec": {
   "display_name": "Python 3 (ipykernel)",
   "language": "python",
   "name": "python3"
  },
  "language_info": {
   "codemirror_mode": {
    "name": "ipython",
    "version": 3
   },
   "file_extension": ".py",
   "mimetype": "text/x-python",
   "name": "python",
   "nbconvert_exporter": "python",
   "pygments_lexer": "ipython3",
   "version": "3.7.6"
  },
  "vscode": {
   "interpreter": {
    "hash": "206168d7fe8cb65e1256d1ae356f5ff7c986d85b7d4db7b07ccc5ecf9c87a9c1"
   }
  }
 },
 "nbformat": 4,
 "nbformat_minor": 4
}
