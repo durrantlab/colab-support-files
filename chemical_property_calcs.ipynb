{
  "cells": [
    {
      "cell_type": "code",
      "source": [
        "# If you don't have rdkit installed, install it here (important for colab)\n",
        "\n",
        "!pip install rdkit"
      ],
      "metadata": {
        "id": "JkNk66R3rzee"
      },
      "execution_count": null,
      "outputs": []
    },
    {
      "cell_type": "code",
      "execution_count": null,
      "metadata": {
        "id": "T0utj_-5ryms"
      },
      "outputs": [],
      "source": [
        "# I'll help by listing the important you'll need.\n",
        "\n",
        "from rdkit import Chem\n",
        "from rdkit.Chem import Descriptors\n",
        "from rdkit.Chem import Crippen\n",
        "from rdkit.Chem import Lipinski\n",
        "\n",
        "from rdkit.Chem import Draw\n",
        "from rdkit import DataStructs\n",
        "import numpy"
      ]
    },
    {
      "cell_type": "code",
      "execution_count": null,
      "metadata": {
        "id": "CyebQib0rymt"
      },
      "outputs": [],
      "source": [
        "# Create a list containing your 30 SMILES strings (known ligands and other\n",
        "# small molecules).\n",
        "\n",
        "smiles = [\n",
        "  # (your SMILES strings go here)\n",
        "]"
      ]
    },
    {
      "cell_type": "code",
      "source": [
        "# Convert those SMILES into rdkit molecule objects. See\n",
        "# https://github.com/durrantlab/colab-support-files/blob/main/tanimoto_searching.ipynb\n",
        "# for tips.\n",
        "\n",
        "mols = # (code to convert SMILES to rdkit mol objects goes here)"
      ],
      "metadata": {
        "id": "KNNa-ZzJb9Ue"
      },
      "execution_count": null,
      "outputs": []
    },
    {
      "cell_type": "code",
      "execution_count": null,
      "metadata": {
        "id": "1FDxYZFVrymt"
      },
      "outputs": [],
      "source": [
        "# Identify which ligands pass Lipinski's rule of fives, and which don't.\n",
        "# Recall that Lipinski's rule has four parts that put limits on the number of\n",
        "# hydrogen-bond donors, the number of hydrogen-bond acceptors, the molecular\n",
        "# mass, and the calculated logP. Also remember that a molecule passes\n",
        "# Lipinski's overall rule if it violates one or zero of the four criteria.\n",
        "\n",
        "# rdkit includes several functions for calculating Lipinski properties.\n",
        "# I'd like you to try to determine how to use these function by reading\n",
        "# through the documentation (a very real part of any authentic research\n",
        "# experience!). But I'll be in class to answer questions and help if needed.\n",
        "\n",
        "# Here are some pages to help:\n",
        "# https://www.rdkit.org/docs/source/rdkit.Chem.Lipinski.html\n",
        "# https://www.rdkit.org/docs/source/rdkit.Chem.Crippen.html\n",
        "# https://www.rdkit.org/docs/source/rdkit.Chem.Descriptors.html\n",
        "\n",
        "# passes_lipinski should be a list of True or False values, where the entry is\n",
        "# True if the corresponding molecule passes Lipinski's rule of fives, or\n",
        "# False if it does not pass.\n",
        "\n",
        "passes_lipinski = []\n",
        "\n",
        "# (your code here to populate passes_lipinski)"
      ]
    },
    {
      "cell_type": "code",
      "execution_count": null,
      "metadata": {
        "id": "XZh3ykgbrymu"
      },
      "outputs": [],
      "source": [
        "# Save the results to a csv file, which you will upload as homework.\n",
        "with open(\"results.csv\", \"w\") as f:\n",
        "  for smi, pass_lipinski in zip(smiles, passes_lipinski):\n",
        "    f.write(smi + \",\" + str(pass_lipinski) + \"\\n\")\n",
        "\n",
        "# Download results.csv file if using google colab.\n",
        "from google.colab import files\n",
        "files.download('results.csv')\n"
      ]
    }
  ],
  "metadata": {
    "kernelspec": {
      "display_name": "Python 3 (ipykernel)",
      "language": "python",
      "name": "python3"
    },
    "language_info": {
      "codemirror_mode": {
        "name": "ipython",
        "version": 3
      },
      "file_extension": ".py",
      "mimetype": "text/x-python",
      "name": "python",
      "nbconvert_exporter": "python",
      "pygments_lexer": "ipython3",
      "version": "3.7.6"
    },
    "vscode": {
      "interpreter": {
        "hash": "206168d7fe8cb65e1256d1ae356f5ff7c986d85b7d4db7b07ccc5ecf9c87a9c1"
      }
    },
    "colab": {
      "provenance": []
    }
  },
  "nbformat": 4,
  "nbformat_minor": 0
}