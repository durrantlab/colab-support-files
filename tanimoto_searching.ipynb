{
  "cells": [
    {
      "cell_type": "code",
      "execution_count": 6,
      "metadata": {
        "colab": {
          "base_uri": "https://localhost:8080/"
        },
        "id": "Nkm93_N2nAVC",
        "outputId": "c56515b6-fd78-456b-cac7-d7fe6d483882"
      },
      "outputs": [
        {
          "name": "stdout",
          "output_type": "stream",
          "text": [
            "Requirement already satisfied: rdkit in /usr/local/lib/python3.10/dist-packages (2023.9.4)\n",
            "Requirement already satisfied: numpy in /usr/local/lib/python3.10/dist-packages (from rdkit) (1.23.5)\n",
            "Requirement already satisfied: Pillow in /usr/local/lib/python3.10/dist-packages (from rdkit) (9.4.0)\n"
          ]
        }
      ],
      "source": [
        "!pip install rdkit"
      ]
    },
    {
      "cell_type": "code",
      "execution_count": 1,
      "metadata": {
        "id": "qfKRCrVFnBvi"
      },
      "outputs": [],
      "source": [
        "import rdkit\n",
        "from rdkit import Chem\n",
        "from rdkit.Chem import AllChem\n",
        "from rdkit.Chem import Draw\n",
        "from rdkit.Chem import rdMolDescriptors\n",
        "from rdkit import DataStructs"
      ]
    },
    {
      "cell_type": "code",
      "execution_count": 2,
      "metadata": {
        "colab": {
          "base_uri": "https://localhost:8080/",
          "height": 317
        },
        "id": "WFq-90jOnJYt",
        "outputId": "1be748e3-8351-4e55-e141-b28a4721d0cf"
      },
      "outputs": [
        {
          "data": {
            "image/png": "[encoded data removed]",
            "text/plain": [
              "<PIL.PngImagePlugin.PngImageFile image mode=RGB size=300x300 at 0x7FD220D08750>"
            ]
          },
          "execution_count": 2,
          "metadata": {},
          "output_type": "execute_result"
        }
      ],
      "source": [
        "# You can convert a SMILES string to an rdkit molecule object and draw it in the\n",
        "# notebook for easy viewing.\n",
        "\n",
        "mol = Chem.MolFromSmiles(\"O1CCOC1c1c(C#CC(C)(C)C)cc(c(C#CC(C)(C)C)c1)C#Cc1cc(C#CCCC)cc(C#CCCC)c1\")\n",
        "Draw.MolToImage(mol)"
      ]
    },
    {
      "cell_type": "code",
      "execution_count": 3,
      "metadata": {
        "colab": {
          "base_uri": "https://localhost:8080/"
        },
        "id": "z7NXZa4KnLKc",
        "outputId": "f91afe06-aa09-40ba-8147-bb8609936380"
      },
      "outputs": [
        {
          "name": "stdout",
          "output_type": "stream",
          "text": [
            "  % Total    % Received % Xferd  Average Speed   Time    Time     Time  Current\n",
            "                                 Dload  Upload   Total   Spent    Left  Speed\n",
            "100 1742k  100 1742k    0     0  4219k      0 --:--:-- --:--:-- --:--:-- 4479k\n"
          ]
        }
      ],
      "source": [
        "# Let's download a diversity set containing many smiles strings\n",
        "# Source: https://www.chemdiv.com/catalog/diversity-libraries/ (soluble diversity library)\n",
        "\n",
        "!curl -O https://raw.githubusercontent.com/durrantlab/colab-support-files/main/SDF_Soluble_Diversity_Library_15500.smi"
      ]
    },
    {
      "cell_type": "code",
      "execution_count": 4,
      "metadata": {
        "colab": {
          "base_uri": "https://localhost:8080/"
        },
        "id": "f2qisWFWqXu5",
        "outputId": "bbb911c6-f769-43b0-a0bf-2fbe4b7bfbab"
      },
      "outputs": [
        {
          "name": "stdout",
          "output_type": "stream",
          "text": [
            "Brc1ccc2c(c1)cc([nH]2)C(=O)N\t5-bromo-1H-indole-2-carboxamide\n",
            "O=C(C(N1CCN(CC1)c1ccccc1F)C)NC1CCCCC1\tN-cyclohexyl-2-[4-(2-fluorophenyl)piperazin-1-yl]propanamide\n",
            "O=C(C(C)(C)C)NCc1ccc(cc1)Cl\tN-[(4-chlorophenyl)methyl]-2,2-dimethylpropanamide\n",
            "O=C(c1c2CCCc2nc2c1cccc2)NC1CC1\tN-cyclopropyl-1H,2H,3H-cyclopenta[b]quinoline-9-carboxamide\n",
            "O=C(C(C)C)Nc1ccc(c(c1)C)Br\tN-(4-bromo-3-methylphenyl)-2-methylpropanamide\n"
          ]
        }
      ],
      "source": [
        "# What does this file look like?\n",
        "\n",
        "with open(\"SDF_Soluble_Diversity_Library_15500.smi\") as f:\n",
        "  for i in range(5):\n",
        "    print(f.readline().strip())"
      ]
    },
    {
      "cell_type": "code",
      "execution_count": 5,
      "metadata": {
        "colab": {
          "base_uri": "https://localhost:8080/"
        },
        "id": "QK0FncXmqgmo",
        "outputId": "e6b0baaa-d527-44a8-8657-c885150c7b8e"
      },
      "outputs": [
        {
          "data": {
            "text/plain": [
              "['Brc1ccc2c(c1)cc([nH]2)C(=O)N',\n",
              " 'O=C(C(N1CCN(CC1)c1ccccc1F)C)NC1CCCCC1',\n",
              " 'O=C(C(C)(C)C)NCc1ccc(cc1)Cl',\n",
              " 'O=C(c1c2CCCc2nc2c1cccc2)NC1CC1',\n",
              " 'O=C(C(C)C)Nc1ccc(c(c1)C)Br',\n",
              " 'O=C1NC2(CCCCCC2)Oc2c1cccc2',\n",
              " 'O=C(Nc1ccc(cc1)F)CC(C)(C)C',\n",
              " 'COC(=O)C1CN(C(=O)C1)c1ccc(cc1)Br',\n",
              " 'Fc1cccc(c1)n1nnc(c1)C(=O)NC1CC1',\n",
              " 'O=C(C(C)C)Nc1ccc(cc1C)Br',\n",
              " 'Brc1cccc(c1)C(=O)N(C1CCCCC1)CCC(=O)N1CCNCC1',\n",
              " 'Cc1nc2c(s1)cc(cc2)C(=O)N1CCC2(C(C1)CCCC2)O',\n",
              " 'CCCCCN(C(=O)c1ccc(c(c1)Cl)F)CCC(=O)N1CCNCC1',\n",
              " 'OC(=O)Cn1nc(C)c2c(c1=O)cccc2',\n",
              " 'CN1C(CC(=O)C(C1c1ccccc1)C)c1ccccc1']"
            ]
          },
          "execution_count": 5,
          "metadata": {},
          "output_type": "execute_result"
        }
      ],
      "source": [
        "# The smiles string is the first column. Let's load them all into a big list.\n",
        "\n",
        "all_smiles = []\n",
        "with open(\"SDF_Soluble_Diversity_Library_15500.smi\") as f:\n",
        "  for line in f:\n",
        "    all_smiles.append(line.split()[0])\n",
        "\n",
        "all_smiles[:15]"
      ]
    },
    {
      "cell_type": "code",
      "execution_count": 7,
      "metadata": {
        "colab": {
          "base_uri": "https://localhost:8080/"
        },
        "id": "0sy4VbR5qxVI",
        "outputId": "9ca7a1aa-369c-471d-c041-68ae2ed5f447"
      },
      "outputs": [
        {
          "data": {
            "text/plain": [
              "[<rdkit.Chem.rdchem.Mol at 0x7fd2105f72b0>,\n",
              " <rdkit.Chem.rdchem.Mol at 0x7fd2105f7120>,\n",
              " <rdkit.Chem.rdchem.Mol at 0x7fd2105f7350>,\n",
              " <rdkit.Chem.rdchem.Mol at 0x7fd2105f7170>,\n",
              " <rdkit.Chem.rdchem.Mol at 0x7fd2105f71c0>,\n",
              " <rdkit.Chem.rdchem.Mol at 0x7fd2105f7260>,\n",
              " <rdkit.Chem.rdchem.Mol at 0x7fd2105f7300>,\n",
              " <rdkit.Chem.rdchem.Mol at 0x7fd2105f7210>,\n",
              " <rdkit.Chem.rdchem.Mol at 0x7fd2105f73a0>,\n",
              " <rdkit.Chem.rdchem.Mol at 0x7fd2105f73f0>,\n",
              " <rdkit.Chem.rdchem.Mol at 0x7fd2105f7440>,\n",
              " <rdkit.Chem.rdchem.Mol at 0x7fd2105f7490>,\n",
              " <rdkit.Chem.rdchem.Mol at 0x7fd2105f74e0>,\n",
              " <rdkit.Chem.rdchem.Mol at 0x7fd2105f7530>,\n",
              " <rdkit.Chem.rdchem.Mol at 0x7fd2105f7580>]"
            ]
          },
          "execution_count": 7,
          "metadata": {},
          "output_type": "execute_result"
        }
      ],
      "source": [
        "# Let's now convert all these smiles strings into rdkit molecule objects.\n",
        "\n",
        "all_mols = [Chem.MolFromSmiles(s) for s in all_smiles]\n",
        "\n",
        "all_mols[:15]"
      ]
    },
    {
      "cell_type": "code",
      "execution_count": 8,
      "metadata": {
        "colab": {
          "base_uri": "https://localhost:8080/"
        },
        "id": "dP2x9B3qq779",
        "outputId": "e1eb95c0-7027-414b-c7bd-79942d7c7ad3"
      },
      "outputs": [
        {
          "data": {
            "text/plain": [
              "[<rdkit.DataStructs.cDataStructs.UIntSparseIntVect at 0x7fd21066f760>,\n",
              " <rdkit.DataStructs.cDataStructs.UIntSparseIntVect at 0x7fd21066f710>,\n",
              " <rdkit.DataStructs.cDataStructs.UIntSparseIntVect at 0x7fd21066f620>,\n",
              " <rdkit.DataStructs.cDataStructs.UIntSparseIntVect at 0x7fd21066f7b0>,\n",
              " <rdkit.DataStructs.cDataStructs.UIntSparseIntVect at 0x7fd21066f800>,\n",
              " <rdkit.DataStructs.cDataStructs.UIntSparseIntVect at 0x7fd21066f850>,\n",
              " <rdkit.DataStructs.cDataStructs.UIntSparseIntVect at 0x7fd21066f8a0>,\n",
              " <rdkit.DataStructs.cDataStructs.UIntSparseIntVect at 0x7fd21066f8f0>,\n",
              " <rdkit.DataStructs.cDataStructs.UIntSparseIntVect at 0x7fd21066f940>,\n",
              " <rdkit.DataStructs.cDataStructs.UIntSparseIntVect at 0x7fd21066f990>,\n",
              " <rdkit.DataStructs.cDataStructs.UIntSparseIntVect at 0x7fd21066f9e0>,\n",
              " <rdkit.DataStructs.cDataStructs.UIntSparseIntVect at 0x7fd21066fa30>,\n",
              " <rdkit.DataStructs.cDataStructs.UIntSparseIntVect at 0x7fd21066f0d0>,\n",
              " <rdkit.DataStructs.cDataStructs.UIntSparseIntVect at 0x7fd21066fa80>,\n",
              " <rdkit.DataStructs.cDataStructs.UIntSparseIntVect at 0x7fd21066fad0>]"
            ]
          },
          "execution_count": 8,
          "metadata": {},
          "output_type": "execute_result"
        }
      ],
      "source": [
        "# You compute tanimoto similarity between fingerprints, not molecules. So we\n",
        "# should convert all these molecules into fingerprints.\n",
        "\n",
        "all_fps = [rdMolDescriptors.GetMorganFingerprint(m, radius=2) for m in all_mols]\n",
        "\n",
        "all_fps[:15]"
      ]
    },
    {
      "cell_type": "code",
      "execution_count": 9,
      "metadata": {
        "colab": {
          "base_uri": "https://localhost:8080/",
          "height": 317
        },
        "id": "SeVJMIqercKH",
        "outputId": "c7cfb60a-ff89-4d1d-c5ea-950522d8e603"
      },
      "outputs": [
        {
          "data": {
            "image/png": "[encoded data removed]",
            "text/plain": [
              "<PIL.PngImagePlugin.PngImageFile image mode=RGB size=300x300 at 0x7FD2105F8290>"
            ]
          },
          "execution_count": 9,
          "metadata": {},
          "output_type": "execute_result"
        }
      ],
      "source": [
        "# Let's consider aspirin:\n",
        "\n",
        "aspirin_mol = Chem.MolFromSmiles(\"CC(=O)OC1=CC=CC=C1C(=O)O\")\n",
        "Draw.MolToImage(aspirin_mol)"
      ]
    },
    {
      "cell_type": "code",
      "execution_count": 10,
      "metadata": {
        "id": "7zgKq9RqrtiS"
      },
      "outputs": [],
      "source": [
        "aspirin_fp = rdMolDescriptors.GetMorganFingerprint(aspirin_mol, radius=2)"
      ]
    },
    {
      "cell_type": "code",
      "execution_count": 11,
      "metadata": {
        "colab": {
          "base_uri": "https://localhost:8080/",
          "height": 335
        },
        "id": "cYJOMbUVr1p0",
        "outputId": "d7cb1a66-f2ea-458a-fb40-3385cf0488cc"
      },
      "outputs": [
        {
          "name": "stdout",
          "output_type": "stream",
          "text": [
            "0.4716981132075472\n"
          ]
        },
        {
          "data": {
            "image/png": "[encoded data removed]",
            "text/plain": [
              "<PIL.PngImagePlugin.PngImageFile image mode=RGB size=300x300 at 0x7FD2105F8710>"
            ]
          },
          "execution_count": 11,
          "metadata": {},
          "output_type": "execute_result"
        }
      ],
      "source": [
        "# molecule 3208 is among the most similar\n",
        "\n",
        "similarity = DataStructs.TanimotoSimilarity(aspirin_fp, all_fps[3208])\n",
        "print(similarity)\n",
        "Draw.MolToImage(all_mols[3208])"
      ]
    },
    {
      "cell_type": "code",
      "execution_count": 12,
      "metadata": {
        "colab": {
          "base_uri": "https://localhost:8080/",
          "height": 335
        },
        "id": "CSMviUcas150",
        "outputId": "e7363f1f-e97c-49d1-b85e-5e1bd9cfd8f2"
      },
      "outputs": [
        {
          "name": "stdout",
          "output_type": "stream",
          "text": [
            "0.023255813953488372\n"
          ]
        },
        {
          "data": {
            "image/png": "[encoded data removed]",
            "text/plain": [
              "<PIL.PngImagePlugin.PngImageFile image mode=RGB size=300x300 at 0x7FD2105F83D0>"
            ]
          },
          "execution_count": 12,
          "metadata": {},
          "output_type": "execute_result"
        }
      ],
      "source": [
        "# molecule 1219 is among the most dissimilar\n",
        "\n",
        "similarity = DataStructs.TanimotoSimilarity(aspirin_fp, all_fps[1219])\n",
        "print(similarity)\n",
        "Draw.MolToImage(all_mols[1219])"
      ]
    },
    {
      "cell_type": "code",
      "execution_count": 14,
      "metadata": {},
      "outputs": [
        {
          "data": {
            "image/png": "[encoded data removed]",
            "text/plain": [
              "<PIL.PngImagePlugin.PngImageFile image mode=RGB size=300x300 at 0x7FD221578A10>"
            ]
          },
          "execution_count": 14,
          "metadata": {},
          "output_type": "execute_result"
        }
      ],
      "source": [
        "# Perhaps compounds with the \"c1ccc(O)c(C(=O)O)c1\" substructure\n",
        "# could bind the same target.\n",
        "\n",
        "substruct = Chem.MolFromSmiles(\"c1ccc(O)c(C(=O)O)c1\")\n",
        "Draw.MolToImage(substruct)"
      ]
    },
    {
      "cell_type": "code",
      "execution_count": 22,
      "metadata": {},
      "outputs": [
        {
          "name": "stdout",
          "output_type": "stream",
          "text": [
            "Number matches: 7\n"
          ]
        },
        {
          "data": {
            "image/png": "[encoded data removed]",
            "text/plain": [
              "<PIL.PngImagePlugin.PngImageFile image mode=RGB size=300x300 at 0x7FD1F8AE5850>"
            ]
          },
          "execution_count": 22,
          "metadata": {},
          "output_type": "execute_result"
        }
      ],
      "source": [
        "# Search for compounds with this substructure\n",
        "\n",
        "matches = [m for m in all_mols if m.HasSubstructMatch(substruct)]\n",
        "print(\"Number matches:\", len(matches))\n",
        "Draw.MolToImage(matches[0])"
      ]
    }
  ],
  "metadata": {
    "colab": {
      "provenance": []
    },
    "kernelspec": {
      "display_name": "Python 3",
      "name": "python3"
    },
    "language_info": {
      "codemirror_mode": {
        "name": "ipython",
        "version": 3
      },
      "file_extension": ".py",
      "mimetype": "text/x-python",
      "name": "python",
      "nbconvert_exporter": "python",
      "pygments_lexer": "ipython3",
      "version": "3.7.6"
    }
  },
  "nbformat": 4,
  "nbformat_minor": 0
}
