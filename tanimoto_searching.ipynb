{
  "nbformat": 4,
  "nbformat_minor": 0,
  "metadata": {
    "colab": {
      "provenance": []
    },
    "kernelspec": {
      "name": "python3",
      "display_name": "Python 3"
    },
    "language_info": {
      "name": "python"
    }
  },
  "cells": [
    {
      "cell_type": "code",
      "execution_count": 6,
      "metadata": {
        "colab": {
          "base_uri": "https://localhost:8080/"
        },
        "id": "Nkm93_N2nAVC",
        "outputId": "c56515b6-fd78-456b-cac7-d7fe6d483882"
      },
      "outputs": [
        {
          "output_type": "stream",
          "name": "stdout",
          "text": [
            "Requirement already satisfied: rdkit in /usr/local/lib/python3.10/dist-packages (2023.9.4)\n",
            "Requirement already satisfied: numpy in /usr/local/lib/python3.10/dist-packages (from rdkit) (1.23.5)\n",
            "Requirement already satisfied: Pillow in /usr/local/lib/python3.10/dist-packages (from rdkit) (9.4.0)\n"
          ]
        }
      ],
      "source": [
        "!pip install rdkit"
      ]
    },
    {
      "cell_type": "code",
      "source": [
        "import rdkit\n",
        "from rdkit import Chem\n",
        "from rdkit.Chem import AllChem\n",
        "from rdkit.Chem import Draw\n",
        "from rdkit.Chem import rdMolDescriptors\n",
        "from rdkit import DataStructs"
      ],
      "metadata": {
        "id": "qfKRCrVFnBvi"
      },
      "execution_count": 7,
      "outputs": []
    },
    {
      "cell_type": "code",
      "source": [
        "# You can convert a SMILES string to an rdkit molecule object and draw it in the\n",
        "# notebook for easy viewing.\n",
        "\n",
        "mol = Chem.MolFromSmiles(\"O1CCOC1c1c(C#CC(C)(C)C)cc(c(C#CC(C)(C)C)c1)C#Cc1cc(C#CCCC)cc(C#CCCC)c1\")\n",
        "Draw.MolToImage(mol)"
      ],
      "metadata": {
        "colab": {
          "base_uri": "https://localhost:8080/",
          "height": 317
        },
        "id": "WFq-90jOnJYt",
        "outputId": "1be748e3-8351-4e55-e141-b28a4721d0cf"
      },
      "execution_count": 8,
      "outputs": [
        {
          "output_type": "execute_result",
          "data": {
            "text/plain": [
              "<PIL.PngImagePlugin.PngImageFile image mode=RGB size=300x300>"
            ],
            "image/png": "[encoded data removed]"
          },
          "metadata": {},
          "execution_count": 8
        }
      ]
    },
    {
      "cell_type": "code",
      "source": [
        "# Let's download a diversity set containing many smiles strings\n",
        "# Source: https://www.chemdiv.com/catalog/diversity-libraries/ (soluble diversity library)\n",
        "\n",
        "!curl -O https://raw.githubusercontent.com/durrantlab/colab-support-files/main/SDF_Soluble_Diversity_Library_15500.smi"
      ],
      "metadata": {
        "colab": {
          "base_uri": "https://localhost:8080/"
        },
        "id": "z7NXZa4KnLKc",
        "outputId": "f91afe06-aa09-40ba-8147-bb8609936380"
      },
      "execution_count": 9,
      "outputs": [
        {
          "output_type": "stream",
          "name": "stdout",
          "text": [
            "  % Total    % Received % Xferd  Average Speed   Time    Time     Time  Current\n",
            "                                 Dload  Upload   Total   Spent    Left  Speed\n",
            "100 1742k  100 1742k    0     0  5189k      0 --:--:-- --:--:-- --:--:-- 5186k\n"
          ]
        }
      ]
    },
    {
      "cell_type": "code",
      "source": [
        "# What does this file look like?\n",
        "with open(\"SDF_Soluble_Diversity_Library_15500.smi\") as f:\n",
        "  for i in range(5):\n",
        "    print(f.readline().strip())"
      ],
      "metadata": {
        "colab": {
          "base_uri": "https://localhost:8080/"
        },
        "id": "f2qisWFWqXu5",
        "outputId": "bbb911c6-f769-43b0-a0bf-2fbe4b7bfbab"
      },
      "execution_count": 10,
      "outputs": [
        {
          "output_type": "stream",
          "name": "stdout",
          "text": [
            "Brc1ccc2c(c1)cc([nH]2)C(=O)N\t5-bromo-1H-indole-2-carboxamide\n",
            "O=C(C(N1CCN(CC1)c1ccccc1F)C)NC1CCCCC1\tN-cyclohexyl-2-[4-(2-fluorophenyl)piperazin-1-yl]propanamide\n",
            "O=C(C(C)(C)C)NCc1ccc(cc1)Cl\tN-[(4-chlorophenyl)methyl]-2,2-dimethylpropanamide\n",
            "O=C(c1c2CCCc2nc2c1cccc2)NC1CC1\tN-cyclopropyl-1H,2H,3H-cyclopenta[b]quinoline-9-carboxamide\n",
            "O=C(C(C)C)Nc1ccc(c(c1)C)Br\tN-(4-bromo-3-methylphenyl)-2-methylpropanamide\n"
          ]
        }
      ]
    },
    {
      "cell_type": "code",
      "source": [
        "# The smiles string is the first column. Let's load them all into a big list.\n",
        "all_smiles = []\n",
        "with open(\"SDF_Soluble_Diversity_Library_15500.smi\") as f:\n",
        "  for line in f:\n",
        "    all_smiles.append(line.split()[0])\n",
        "\n",
        "all_smiles[:15]"
      ],
      "metadata": {
        "colab": {
          "base_uri": "https://localhost:8080/"
        },
        "id": "QK0FncXmqgmo",
        "outputId": "e6b0baaa-d527-44a8-8657-c885150c7b8e"
      },
      "execution_count": 11,
      "outputs": [
        {
          "output_type": "execute_result",
          "data": {
            "text/plain": [
              "['Brc1ccc2c(c1)cc([nH]2)C(=O)N',\n",
              " 'O=C(C(N1CCN(CC1)c1ccccc1F)C)NC1CCCCC1',\n",
              " 'O=C(C(C)(C)C)NCc1ccc(cc1)Cl',\n",
              " 'O=C(c1c2CCCc2nc2c1cccc2)NC1CC1',\n",
              " 'O=C(C(C)C)Nc1ccc(c(c1)C)Br',\n",
              " 'O=C1NC2(CCCCCC2)Oc2c1cccc2',\n",
              " 'O=C(Nc1ccc(cc1)F)CC(C)(C)C',\n",
              " 'COC(=O)C1CN(C(=O)C1)c1ccc(cc1)Br',\n",
              " 'Fc1cccc(c1)n1nnc(c1)C(=O)NC1CC1',\n",
              " 'O=C(C(C)C)Nc1ccc(cc1C)Br',\n",
              " 'Brc1cccc(c1)C(=O)N(C1CCCCC1)CCC(=O)N1CCNCC1',\n",
              " 'Cc1nc2c(s1)cc(cc2)C(=O)N1CCC2(C(C1)CCCC2)O',\n",
              " 'CCCCCN(C(=O)c1ccc(c(c1)Cl)F)CCC(=O)N1CCNCC1',\n",
              " 'OC(=O)Cn1nc(C)c2c(c1=O)cccc2',\n",
              " 'CN1C(CC(=O)C(C1c1ccccc1)C)c1ccccc1']"
            ]
          },
          "metadata": {},
          "execution_count": 11
        }
      ]
    },
    {
      "cell_type": "code",
      "source": [
        "# Colab has limted memory, so let's keep only the first 2000 of these molecules.\n",
        "# all_smiles = all_smiles[:2000]"
      ],
      "metadata": {
        "id": "845ffw8NsYzk"
      },
      "execution_count": 12,
      "outputs": []
    },
    {
      "cell_type": "code",
      "source": [
        "# Let's now convert all these smiles strings into rdkit molecule objects.\n",
        "all_mols = [Chem.MolFromSmiles(s) for s in all_smiles]\n",
        "\n",
        "all_mols[:15]"
      ],
      "metadata": {
        "colab": {
          "base_uri": "https://localhost:8080/"
        },
        "id": "0sy4VbR5qxVI",
        "outputId": "9ca7a1aa-369c-471d-c041-68ae2ed5f447"
      },
      "execution_count": 13,
      "outputs": [
        {
          "output_type": "execute_result",
          "data": {
            "text/plain": [
              "[<rdkit.Chem.rdchem.Mol at 0x7f61644a4890>,\n",
              " <rdkit.Chem.rdchem.Mol at 0x7f61644a45f0>,\n",
              " <rdkit.Chem.rdchem.Mol at 0x7f61644a51c0>,\n",
              " <rdkit.Chem.rdchem.Mol at 0x7f61644a4580>,\n",
              " <rdkit.Chem.rdchem.Mol at 0x7f61644a47b0>,\n",
              " <rdkit.Chem.rdchem.Mol at 0x7f61644a5d20>,\n",
              " <rdkit.Chem.rdchem.Mol at 0x7f61641fa3b0>,\n",
              " <rdkit.Chem.rdchem.Mol at 0x7f61641fa420>,\n",
              " <rdkit.Chem.rdchem.Mol at 0x7f61641fa490>,\n",
              " <rdkit.Chem.rdchem.Mol at 0x7f61641fa500>,\n",
              " <rdkit.Chem.rdchem.Mol at 0x7f61641fa570>,\n",
              " <rdkit.Chem.rdchem.Mol at 0x7f61641fa5e0>,\n",
              " <rdkit.Chem.rdchem.Mol at 0x7f61641fa650>,\n",
              " <rdkit.Chem.rdchem.Mol at 0x7f61641fa6c0>,\n",
              " <rdkit.Chem.rdchem.Mol at 0x7f61641fa730>]"
            ]
          },
          "metadata": {},
          "execution_count": 13
        }
      ]
    },
    {
      "cell_type": "code",
      "source": [
        "# You compute tanimoto similarity between fingerprints, not molecules. So we\n",
        "# should convert all these molecules into fingerprints.\n",
        "\n",
        "all_fps = [rdMolDescriptors.GetMorganFingerprint(m, radius=2) for m in all_mols]\n",
        "\n",
        "all_fps[:15]"
      ],
      "metadata": {
        "colab": {
          "base_uri": "https://localhost:8080/"
        },
        "id": "dP2x9B3qq779",
        "outputId": "e1eb95c0-7027-414b-c7bd-79942d7c7ad3"
      },
      "execution_count": 14,
      "outputs": [
        {
          "output_type": "execute_result",
          "data": {
            "text/plain": [
              "[<rdkit.DataStructs.cDataStructs.UIntSparseIntVect at 0x7f615fce19a0>,\n",
              " <rdkit.DataStructs.cDataStructs.UIntSparseIntVect at 0x7f615fce1a80>,\n",
              " <rdkit.DataStructs.cDataStructs.UIntSparseIntVect at 0x7f615fce1af0>,\n",
              " <rdkit.DataStructs.cDataStructs.UIntSparseIntVect at 0x7f615fce1b60>,\n",
              " <rdkit.DataStructs.cDataStructs.UIntSparseIntVect at 0x7f615fce1bd0>,\n",
              " <rdkit.DataStructs.cDataStructs.UIntSparseIntVect at 0x7f615fce1c40>,\n",
              " <rdkit.DataStructs.cDataStructs.UIntSparseIntVect at 0x7f615fce1cb0>,\n",
              " <rdkit.DataStructs.cDataStructs.UIntSparseIntVect at 0x7f615fce1d20>,\n",
              " <rdkit.DataStructs.cDataStructs.UIntSparseIntVect at 0x7f615fce1d90>,\n",
              " <rdkit.DataStructs.cDataStructs.UIntSparseIntVect at 0x7f615fce1e00>,\n",
              " <rdkit.DataStructs.cDataStructs.UIntSparseIntVect at 0x7f615fce1e70>,\n",
              " <rdkit.DataStructs.cDataStructs.UIntSparseIntVect at 0x7f615fce1ee0>,\n",
              " <rdkit.DataStructs.cDataStructs.UIntSparseIntVect at 0x7f615fce1f50>,\n",
              " <rdkit.DataStructs.cDataStructs.UIntSparseIntVect at 0x7f615fce1fc0>,\n",
              " <rdkit.DataStructs.cDataStructs.UIntSparseIntVect at 0x7f615fce2030>]"
            ]
          },
          "metadata": {},
          "execution_count": 14
        }
      ]
    },
    {
      "cell_type": "code",
      "source": [
        "# Let's consider aspirin:\n",
        "\n",
        "aspirin_mol = Chem.MolFromSmiles(\"CC(=O)OC1=CC=CC=C1C(=O)O\")\n",
        "Draw.MolToImage(aspirin_mol)"
      ],
      "metadata": {
        "colab": {
          "base_uri": "https://localhost:8080/",
          "height": 317
        },
        "id": "SeVJMIqercKH",
        "outputId": "c7cfb60a-ff89-4d1d-c5ea-950522d8e603"
      },
      "execution_count": 15,
      "outputs": [
        {
          "output_type": "execute_result",
          "data": {
            "text/plain": [
              "<PIL.PngImagePlugin.PngImageFile image mode=RGB size=300x300>"
            ],
            "image/png": "[encoded data removed]"
          },
          "metadata": {},
          "execution_count": 15
        }
      ]
    },
    {
      "cell_type": "code",
      "source": [
        "aspirin_fp = rdMolDescriptors.GetMorganFingerprint(aspirin_mol, radius=2)"
      ],
      "metadata": {
        "id": "7zgKq9RqrtiS"
      },
      "execution_count": 16,
      "outputs": []
    },
    {
      "cell_type": "code",
      "source": [
        "# molecule 3208 is among the most similar\n",
        "similarity = DataStructs.TanimotoSimilarity(aspirin_fp, all_fps[3208])\n",
        "print(similarity)\n",
        "Draw.MolToImage(all_mols[3208])"
      ],
      "metadata": {
        "colab": {
          "base_uri": "https://localhost:8080/",
          "height": 335
        },
        "id": "cYJOMbUVr1p0",
        "outputId": "d7cb1a66-f2ea-458a-fb40-3385cf0488cc"
      },
      "execution_count": 35,
      "outputs": [
        {
          "output_type": "stream",
          "name": "stdout",
          "text": [
            "0.4716981132075472\n"
          ]
        },
        {
          "output_type": "execute_result",
          "data": {
            "text/plain": [
              "<PIL.PngImagePlugin.PngImageFile image mode=RGB size=300x300>"
            ],
            "image/png": "[encoded data removed]"
          },
          "metadata": {},
          "execution_count": 35
        }
      ]
    },
    {
      "cell_type": "code",
      "source": [
        "# molecule 1219 is among the most dissimilar\n",
        "similarity = DataStructs.TanimotoSimilarity(aspirin_fp, all_fps[1219])\n",
        "print(similarity)\n",
        "Draw.MolToImage(all_mols[1219])"
      ],
      "metadata": {
        "colab": {
          "base_uri": "https://localhost:8080/",
          "height": 335
        },
        "id": "CSMviUcas150",
        "outputId": "e7363f1f-e97c-49d1-b85e-5e1bd9cfd8f2"
      },
      "execution_count": 31,
      "outputs": [
        {
          "output_type": "stream",
          "name": "stdout",
          "text": [
            "0.023255813953488372\n"
          ]
        },
        {
          "output_type": "execute_result",
          "data": {
            "text/plain": [
              "<PIL.PngImagePlugin.PngImageFile image mode=RGB size=300x300>"
            ],
            "image/png": "[encoded data removed]"
          },
          "metadata": {},
          "execution_count": 31
        }
      ]
    }
  ]
}