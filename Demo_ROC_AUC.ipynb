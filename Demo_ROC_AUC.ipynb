{
  "nbformat": 4,
  "nbformat_minor": 0,
  "metadata": {
    "colab": {
      "provenance": []
    },
    "kernelspec": {
      "name": "python3",
      "display_name": "Python 3"
    },
    "language_info": {
      "name": "python"
    }
  },
  "cells": [
    {
      "cell_type": "code",
      "execution_count": 8,
      "metadata": {
        "id": "Qf8_m1cYddOb"
      },
      "outputs": [],
      "source": [
        "# On Google Colab, sklearn is installed by default\n",
        "\n",
        "import sklearn\n",
        "from sklearn import metrics\n",
        "from sklearn.metrics import auc\n",
        "import matplotlib.pyplot as plt"
      ]
    },
    {
      "cell_type": "code",
      "source": [
        "# Copy this from excel. (You may need to first copy it to a text editor like\n",
        "# VSCode first.)\n",
        "\n",
        "data = \"\"\"F\t-4.0\n",
        "T\t-4.3\n",
        "F\t-2.7\n",
        "F\t-6.5\n",
        "F\t-7.7\n",
        "F\t-1.9\n",
        "F\t-0.2\n",
        "F\t-2.3\n",
        "F\t-0.9\n",
        "T\t-13.2\n",
        "F\t-10.6\n",
        "F\t-13.0\n",
        "F\t-8.0\n",
        "F\t-12.2\n",
        "T\t-12.3\n",
        "F\t-4.7\n",
        "F\t-11.6\n",
        "F\t-2.0\n",
        "F\t-2.6\n",
        "F\t-9.2\n",
        "F\t-12.0\n",
        "F\t-3.5\n",
        "F\t-5.3\n",
        "F\t-1.5\n",
        "F\t-2.2\n",
        "T\t-10.0\n",
        "F\t-1.3\n",
        "F\t-5.7\n",
        "F\t-2.3\n",
        "T\t-14.3\n",
        "F\t-4.9\n",
        "F\t-3.6\n",
        "F\t-10.8\n",
        "T\t-14.7\n",
        "F\t-2.4\n",
        "T\t-13.6\n",
        "F\t-12.1\n",
        "F\t-10.1\n",
        "F\t-9.4\n",
        "F\t-4.0\n",
        "F\t-0.1\n",
        "T\t-0.3\n",
        "F\t-10.7\n",
        "F\t-0.2\n",
        "F\t-9.5\n",
        "F\t-1.6\n",
        "F\t-7.6\n",
        "F\t-6.6\n",
        "F\t-3.2\n",
        "F\t-5.7\n",
        "F\t-3.8\n",
        "F\t-0.9\n",
        "F\t-2.3\n",
        "F\t-10.6\n",
        "T\t-2.2\n",
        "F\t-0.3\n",
        "F\t-0.7\n",
        "F\t-8.6\n",
        "F\t-12.9\n",
        "F\t-7.2\n",
        "F\t-7.1\n",
        "T\t-12.4\n",
        "F\t-1.3\n",
        "F\t-5.8\n",
        "F\t-4.1\n",
        "F\t-2.8\n",
        "F\t-11.2\n",
        "T\t-11.6\n",
        "F\t-2.5\n",
        "F\t-6.0\n",
        "F\t-5.5\n",
        "F\t-11.2\n",
        "F\t-2.0\n",
        "F\t-14.9\n",
        "F\t-14.1\n",
        "F\t-6.8\n",
        "F\t-9.1\n",
        "F\t-9.2\n",
        "F\t-8.8\n",
        "F\t-3.6\n",
        "T\t-12.0\n",
        "F\t-11.6\n",
        "T\t-8.4\n",
        "F\t-2.0\n",
        "F\t-10.2\n",
        "F\t-7.3\n",
        "F\t-1.2\n",
        "T\t-14.2\n",
        "F\t-8.6\n",
        "F\t-6.0\n",
        "F\t-5.9\n",
        "T\t-14.6\n",
        "F\t-13.6\n",
        "T\t-12.2\n",
        "F\t-4.3\n",
        "F\t-1.9\n",
        "F\t-4.5\n",
        "F\t-4.5\n",
        "F\t-7.8\n",
        "F\t-1.6\n",
        "T\t-13.5\n",
        "T\t-14.1\n",
        "F\t-6.1\n",
        "F\t-9.3\n",
        "F\t-1.7\n",
        "F\t-0.5\n",
        "F\t-8.1\n",
        "F\t-7.9\n",
        "F\t-7.8\n",
        "F\t-10.1\"\"\""
      ],
      "metadata": {
        "id": "Hva-Dr2ddery"
      },
      "execution_count": 2,
      "outputs": []
    },
    {
      "cell_type": "code",
      "source": [
        "# Divide the data into columns\n",
        "y_true = [l.split()[0] for l in data.split(\"\\n\")]\n",
        "\n",
        "# sklearn expects better scores to be more positive, but biotite/AutoDock Vina\n",
        "# give more negative scores to better ligands. So we use -float(...)\n",
        "y_score = [-float(l.split()[1]) for l in data.split(\"\\n\")]\n",
        "\n",
        "y_true[:10], y_score[:10]"
      ],
      "metadata": {
        "colab": {
          "base_uri": "https://localhost:8080/"
        },
        "id": "nAOUq5HfePgv",
        "outputId": "37a6c097-8a33-4c14-923c-20a2785e9570"
      },
      "execution_count": 3,
      "outputs": [
        {
          "output_type": "execute_result",
          "data": {
            "text/plain": [
              "(['F', 'T', 'F', 'F', 'F', 'F', 'F', 'F', 'F', 'T'],\n",
              " [4.0, 4.3, 2.7, 6.5, 7.7, 1.9, 0.2, 2.3, 0.9, 13.2])"
            ]
          },
          "metadata": {},
          "execution_count": 3
        }
      ]
    },
    {
      "cell_type": "code",
      "source": [
        "# sklearn expects the labels (y_true) to be 0 if false or 1 if true.\n",
        "y_true_fixed = [0 if y == \"F\" else 1 for y in y_true]\n",
        "y_true_fixed[:10]"
      ],
      "metadata": {
        "colab": {
          "base_uri": "https://localhost:8080/"
        },
        "id": "rjQKglace3OW",
        "outputId": "40efc98a-faf3-400c-88cc-434d1d0059b9"
      },
      "execution_count": 4,
      "outputs": [
        {
          "output_type": "execute_result",
          "data": {
            "text/plain": [
              "[0, 1, 0, 0, 0, 0, 0, 0, 0, 1]"
            ]
          },
          "metadata": {},
          "execution_count": 4
        }
      ]
    },
    {
      "cell_type": "code",
      "source": [
        "fpr, tpr, thresholds = sklearn.metrics.roc_curve(y_true_fixed, y_score)\n",
        "fpr, tpr, thresholds"
      ],
      "metadata": {
        "colab": {
          "base_uri": "https://localhost:8080/"
        },
        "id": "J7dXtHHufCGi",
        "outputId": "dbad81fd-bff2-47d7-e687-a4838c00dfe3"
      },
      "execution_count": 9,
      "outputs": [
        {
          "output_type": "execute_result",
          "data": {
            "text/plain": [
              "(array([0.        , 0.01086957, 0.01086957, 0.0326087 , 0.0326087 ,\n",
              "        0.05434783, 0.05434783, 0.06521739, 0.07608696, 0.08695652,\n",
              "        0.10869565, 0.13043478, 0.15217391, 0.17391304, 0.18478261,\n",
              "        0.20652174, 0.20652174, 0.23913043, 0.26086957, 0.2826087 ,\n",
              "        0.30434783, 0.30434783, 0.33695652, 0.35869565, 0.45652174,\n",
              "        0.47826087, 0.5       , 0.52173913, 0.56521739, 0.58695652,\n",
              "        0.59782609, 0.60869565, 0.63043478, 0.64130435, 0.66304348,\n",
              "        0.73913043, 0.77173913, 0.7826087 , 0.81521739, 0.83695652,\n",
              "        0.84782609, 0.86956522, 0.88043478, 0.90217391, 0.91304348,\n",
              "        0.93478261, 0.95652174, 0.9673913 , 0.98913043, 1.        ]),\n",
              " array([0.        , 0.        , 0.22222222, 0.33333333, 0.44444444,\n",
              "        0.44444444, 0.55555556, 0.61111111, 0.61111111, 0.66666667,\n",
              "        0.72222222, 0.72222222, 0.72222222, 0.72222222, 0.72222222,\n",
              "        0.72222222, 0.77777778, 0.77777778, 0.77777778, 0.77777778,\n",
              "        0.77777778, 0.83333333, 0.83333333, 0.83333333, 0.83333333,\n",
              "        0.83333333, 0.83333333, 0.83333333, 0.83333333, 0.83333333,\n",
              "        0.88888889, 0.88888889, 0.88888889, 0.88888889, 0.88888889,\n",
              "        0.88888889, 0.88888889, 0.94444444, 0.94444444, 0.94444444,\n",
              "        0.94444444, 0.94444444, 0.94444444, 0.94444444, 0.94444444,\n",
              "        0.94444444, 0.94444444, 1.        , 1.        , 1.        ]),\n",
              " array([15.9, 14.9, 14.2, 13.6, 13.2, 12.9, 12.3, 12.2, 12.1, 12. , 11.6,\n",
              "        11.2, 10.7, 10.6, 10.2, 10.1, 10. ,  9.3,  9.2,  8.8,  8.6,  8.4,\n",
              "         7.9,  7.8,  6.1,  6. ,  5.8,  5.7,  4.7,  4.5,  4.3,  4.1,  4. ,\n",
              "         3.8,  3.6,  2.4,  2.3,  2.2,  2. ,  1.9,  1.7,  1.6,  1.5,  1.3,\n",
              "         1.2,  0.9,  0.5,  0.3,  0.2,  0.1]))"
            ]
          },
          "metadata": {},
          "execution_count": 9
        }
      ]
    },
    {
      "cell_type": "code",
      "source": [
        "# Plotting the ROC curve\n",
        "plt.figure()\n",
        "plt.plot(fpr, tpr, color='darkorange', lw=2, label='ROC curve')\n",
        "plt.plot([0, 1], [0, 1], color='navy', lw=2, linestyle='--')\n",
        "plt.xlim([0.0, 1.0])\n",
        "plt.ylim([0.0, 1.05])\n",
        "plt.xlabel('False Positive Rate')\n",
        "plt.ylabel('True Positive Rate')\n",
        "plt.title('Receiver Operating Characteristic (ROC) Curve')\n",
        "plt.legend(loc=\"lower right\")\n",
        "plt.show()"
      ],
      "metadata": {
        "colab": {
          "base_uri": "https://localhost:8080/",
          "height": 472
        },
        "id": "uZuGd8R4iLzE",
        "outputId": "62ae8563-a1cc-4223-b17b-43209ed33cbf"
      },
      "execution_count": 10,
      "outputs": [
        {
          "output_type": "display_data",
          "data": {
            "text/plain": [
              "<Figure size 640x480 with 1 Axes>"
            ],
            "image/png": "[encoded data removed]"
          },
          "metadata": {}
        }
      ]
    },
    {
      "cell_type": "code",
      "source": [
        "# Calculate the AUC\n",
        "roc_auc = auc(fpr, tpr)\n",
        "\n",
        "print('AUC:', roc_auc)"
      ],
      "metadata": {
        "colab": {
          "base_uri": "https://localhost:8080/"
        },
        "id": "_aiZXSQtmq9J",
        "outputId": "ddf835aa-6372-4798-cd1d-78d720487b7d"
      },
      "execution_count": 11,
      "outputs": [
        {
          "output_type": "stream",
          "name": "stdout",
          "text": [
            "AUC: 0.8143115942028986\n"
          ]
        }
      ]
    }
  ]
}