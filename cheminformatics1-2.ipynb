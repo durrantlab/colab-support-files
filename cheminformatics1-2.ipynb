{
  "cells": [
    {
      "cell_type": "code",
      "source": [
        "# Install conda (to install rdkit)\n",
        "!pip install -q condacolab\n",
        "import condacolab\n",
        "condacolab.install()"
      ],
      "metadata": {
        "id": "-UhaXjYQ3nwM"
      },
      "execution_count": null,
      "outputs": []
    },
    {
      "cell_type": "code",
      "source": [
        "# Now install rdkit. Can take a bit.\n",
        "!mamba install -c conda-forge rdkit\n"
      ],
      "metadata": {
        "id": "KEDzh15_3vi5"
      },
      "execution_count": null,
      "outputs": []
    },
    {
      "cell_type": "code",
      "execution_count": null,
      "metadata": {
        "id": "_fd1mKLe3YeP"
      },
      "outputs": [],
      "source": [
        "# Import rdkit\n",
        "\n",
        "from rdkit import Chem\n",
        "from rdkit.Chem import AllChem\n",
        "from rdkit.Chem import Draw\n",
        "from rdkit import DataStructs\n",
        "from rdkit.ML.Cluster import Butina\n",
        "from rdkit.Chem import Crippen\n",
        "from rdkit.Chem import Lipinski\n",
        "import pandas as pd"
      ]
    },
    {
      "cell_type": "code",
      "execution_count": null,
      "metadata": {
        "id": "uSAG4MW03YeQ"
      },
      "outputs": [],
      "source": [
        "# You can also load molecules from a file in other formats (e.g., SDF). Note\n",
        "# that SDF files can contain multiple molecules.\n",
        "\n",
        "# Download mol.sdf\n",
        "import requests\n",
        "url = 'https://raw.githubusercontent.com/durrantlab/colab-support-files/refs/heads/main/mols.sdf'\n",
        "response = requests.get(url)\n",
        "sdf_contents = response.text\n",
        "with open(\"mols.sdf\", \"w\") as f:\n",
        "    f.write(sdf_contents)\n",
        "\n",
        "# Load the SDF file\n",
        "suppl = Chem.SDMolSupplier('mols.sdf')\n",
        "suppl"
      ]
    },
    {
      "cell_type": "code",
      "execution_count": null,
      "metadata": {
        "id": "t2WSZZAz3YeQ"
      },
      "outputs": [],
      "source": [
        "# If any molecules can't be read, they will be None. Filter them out.\n",
        "ms = [x for x in suppl if x is not None]\n",
        "\n",
        "# How many molecules did we get?\n",
        "print(len(ms))"
      ]
    },
    {
      "cell_type": "markdown",
      "source": [
        "# Cheminformatics #1"
      ],
      "metadata": {
        "id": "BN9oDRtC6YnF"
      }
    },
    {
      "cell_type": "code",
      "execution_count": null,
      "metadata": {
        "id": "6wRniteR3YeQ"
      },
      "outputs": [],
      "source": [
        "# Show the first molecule. In this case, the molecules have 3D coordinates\n",
        "# assigned.\n",
        "ms[0]"
      ]
    },
    {
      "cell_type": "code",
      "execution_count": null,
      "metadata": {
        "id": "HfVerT4r3YeQ"
      },
      "outputs": [],
      "source": [
        "# To improve the drawing, let's calculate 2D coordiantes instead.\n",
        "for m in ms:\n",
        "    AllChem.Compute2DCoords(m)\n",
        "\n",
        "ms[0]"
      ]
    },
    {
      "cell_type": "code",
      "execution_count": null,
      "metadata": {
        "id": "1__Eh2bd3YeQ"
      },
      "outputs": [],
      "source": [
        "# You can also use rdkit to create mol objects from smiles strings\n",
        "\n",
        "housane = Chem.MolFromSmiles('C1CC2C1C2')\n",
        "housane"
      ]
    },
    {
      "cell_type": "code",
      "source": [
        "# RDKIT represents molecules as objects. There are many ways of creating these\n",
        "# molecule objects. For example, you can create them from SMILES strings:\n",
        "kid = Chem.MolFromSmiles('O1CCOC1c1c(C#CC(C)(C)C)cc(c(C#CC(C)(C)C)c1)C#Cc1cc(C#CCCC)cc(C#CCCC)c1')\n",
        "kid"
      ],
      "metadata": {
        "id": "Aah5YReq9BGx"
      },
      "execution_count": null,
      "outputs": []
    },
    {
      "cell_type": "markdown",
      "source": [
        "# Cheminformatics #2\n"
      ],
      "metadata": {
        "id": "C2Hm9eTd6RYU"
      }
    },
    {
      "cell_type": "markdown",
      "source": [
        "## Similarity calculations"
      ],
      "metadata": {
        "id": "6m7F3vKZb5_a"
      }
    },
    {
      "cell_type": "code",
      "source": [
        "# You can use RDKit to measure the chemical similarity between molecules.\n",
        "# Let's first consider two molecules that are very similar, estrogen and\n",
        "# testosterone.\n",
        "estrogen_smiles = \"C[C@]12CC[C@H]3[C@H]([C@@H]1C[C@H]([C@@H]2O)O)CCC4=C3C=CC(=C4)O\"\n",
        "estrogen = Chem.MolFromSmiles(estrogen_smiles)\n",
        "estrogen"
      ],
      "metadata": {
        "id": "E-OXwqR1Za9b"
      },
      "execution_count": null,
      "outputs": []
    },
    {
      "cell_type": "code",
      "source": [
        "testosterone_smiles = \"C[C@]12CC[C@H]3[C@H]([C@@H]1CC[C@@H]2O)CCC4=CC(=O)CC[C@]34C\"\n",
        "testosterone = Chem.MolFromSmiles(testosterone_smiles)\n",
        "testosterone"
      ],
      "metadata": {
        "id": "NNLoYl9QaUBs"
      },
      "execution_count": null,
      "outputs": []
    },
    {
      "cell_type": "code",
      "source": [
        "# Let's calculate the MACCS fingerprint for each of these molecules.\n",
        "estrogen_maccs = AllChem.GetMACCSKeysFingerprint(estrogen)\n",
        "testosterone_maccs = AllChem.GetMACCSKeysFingerprint(testosterone)\n",
        "\n",
        "# Let's look at the values in estrogen_maccs (bits)\n",
        "print(estrogen_maccs.ToBitString())"
      ],
      "metadata": {
        "id": "qsECpY3bajM1"
      },
      "execution_count": null,
      "outputs": []
    },
    {
      "cell_type": "code",
      "source": [
        "# Now let's calculdate the Tanimoto (Jaccard) similarity between these MACCS\n",
        "# fingerprints\n",
        "DataStructs.FingerprintSimilarity(estrogen_maccs, testosterone_maccs)"
      ],
      "metadata": {
        "id": "RTo46puzaxIC"
      },
      "execution_count": null,
      "outputs": []
    },
    {
      "cell_type": "code",
      "source": [
        "# Now let's load a molecule that is very different.\n",
        "thyroxine_smiles = \"C1=C(C=C(C(=C1I)OC2=CC(=C(C(=C2)I)O)I)I)C[C@@H](C(=O)O)N\"\n",
        "thyroxine = Chem.MolFromSmiles(thyroxine_smiles)\n",
        "thyroxine"
      ],
      "metadata": {
        "id": "3bqvCZ5ea7i8"
      },
      "execution_count": null,
      "outputs": []
    },
    {
      "cell_type": "code",
      "source": [
        "# We will similarly calculate it's MACCS fingerprint and Tanimoto similarity to\n",
        "# estrogen. The similarity is lower because the molecule is not very similar\n",
        "# to estrogen.\n",
        "thyroxine_maccs = AllChem.GetMACCSKeysFingerprint(thyroxine)\n",
        "DataStructs.FingerprintSimilarity(estrogen_maccs, thyroxine_maccs)"
      ],
      "metadata": {
        "id": "w1z34mfvbFbC"
      },
      "execution_count": null,
      "outputs": []
    },
    {
      "cell_type": "markdown",
      "source": [
        "## Butina to create a diversity set"
      ],
      "metadata": {
        "id": "V_-E2yFBcGgt"
      }
    },
    {
      "cell_type": "code",
      "source": [
        "# Use the Butina algorithm to cluster the compounds in the ms list. See\n",
        "# https://projects.volkamerlab.org/teachopencadd/talktorials/T005_compound_clustering.html\n",
        "\n",
        "# NOTE: I won't ask you how to run Butina using RDKit specifically. Good to\n",
        "# understand how Butina algorithm works generally, though.\n",
        "# Convert all the molecules to fingerprints\n",
        "fps = [Chem.RDKFingerprint(m) for m in ms]\n",
        "def tanimoto_distance_matrix(fp_list):\n",
        "  \"\"\"Calculate distance matrix for fingerprint list\"\"\"\n",
        "  dissimilarity_matrix = []\n",
        "  # Notice how we are deliberately skipping the first and last items in the\n",
        "  # list because we don't need to compare them against themselves\n",
        "  for i in range(1, len(fp_list)):\n",
        "    # Compare the current fingerprint against all the previous ones in the\n",
        "    # list\n",
        "    similarities = DataStructs.BulkTanimotoSimilarity(fp_list[i], fp_list[:i])\n",
        "    # Since we need a distance matrix, calculate 1-x for every element in\n",
        "    # similarity matrix\n",
        "    dissimilarity_matrix.extend([1 - x for x in similarities])\n",
        "  return dissimilarity_matrix\n",
        "distance_matrix = tanimoto_distance_matrix(fps)"
      ],
      "metadata": {
        "id": "j2uI9GIm8H1T"
      },
      "execution_count": null,
      "outputs": []
    },
    {
      "cell_type": "code",
      "source": [
        "# Run the Butina algorithm to cluster the molecules. NOTE: I won't ask you how\n",
        "# to run Butina using RDKit specifically. Good to understand how Butina\n",
        "# algorithm works generally, though.\n",
        "clusters = Butina.ClusterData(distance_matrix, len(fps), 0.125, isDistData=True)\n",
        "clusters = sorted(clusters, key=len, reverse=True)"
      ],
      "metadata": {
        "id": "eq0QevPi8L9j"
      },
      "execution_count": null,
      "outputs": []
    },
    {
      "cell_type": "code",
      "source": [
        "# `clusters` is a list of tuples, where each tuple contains the indices of the\n",
        "# molecules in that cluster.\n",
        "print(len(clusters))\n",
        "clusters"
      ],
      "metadata": {
        "id": "rfMZz0hZ8dJF"
      },
      "execution_count": null,
      "outputs": []
    },
    {
      "cell_type": "code",
      "source": [
        "# Let's look at the first cluster\n",
        "first_cluster = clusters[0]\n",
        "second_cluster = clusters[1]\n",
        "first_cluster"
      ],
      "metadata": {
        "id": "nUzhYu7I8gZ9"
      },
      "execution_count": null,
      "outputs": []
    },
    {
      "cell_type": "code",
      "source": [
        "# Look at the structures in the first cluster. RDKit can display molecules in a\n",
        "# grid.\n",
        "for i in first_cluster:\n",
        "  AllChem.Compute2DCoords(ms[i])\n",
        "\n",
        "Draw.MolsToGridImage([ms[i] for i in first_cluster], molsPerRow=3, useSVG=True, subImgSize=(300,300))"
      ],
      "metadata": {
        "id": "ygjVolUw8gmf"
      },
      "execution_count": null,
      "outputs": []
    },
    {
      "cell_type": "code",
      "source": [
        "# Look at the structures in the second cluster, too.\n",
        "for i in second_cluster:\n",
        "  AllChem.Compute2DCoords(ms[i])\n",
        "\n",
        "Draw.MolsToGridImage([ms[i] for i in second_cluster], molsPerRow=3, useSVG=True, subImgSize=(300,300))"
      ],
      "metadata": {
        "id": "gdVdzQge8iJ6"
      },
      "execution_count": null,
      "outputs": []
    },
    {
      "cell_type": "markdown",
      "source": [
        "## RDKit can also construct similarity libraries based on common substructures"
      ],
      "metadata": {
        "id": "02UfiigngDBd"
      }
    },
    {
      "cell_type": "code",
      "source": [
        "# You can also use rdkit to search for molecules with certain substructures.\n",
        "# Define the substructure.\n",
        "\n",
        "substruct = Chem.MolFromSmiles('c1cccc([OH])c1OC')\n",
        "substruct"
      ],
      "metadata": {
        "id": "DgMQGahg7PjP"
      },
      "execution_count": null,
      "outputs": []
    },
    {
      "cell_type": "code",
      "execution_count": null,
      "metadata": {
        "id": "acoSu8L33YeQ"
      },
      "outputs": [],
      "source": [
        "# Search throguh all the molecules to find matches\n",
        "matches = []\n",
        "nonmatches = []\n",
        "for m in ms:\n",
        "    if m.HasSubstructMatch(substruct):\n",
        "        matches.append(m)\n",
        "    else:\n",
        "        nonmatches.append(m)\n",
        "\n",
        "# How many matches are there?\n",
        "print(len(matches))\n",
        "\n",
        "# Let's see them\n",
        "for m in matches:\n",
        "  AllChem.Compute2DCoords(m)\n",
        "Draw.MolsToGridImage(matches, molsPerRow=3, useSVG=True, subImgSize=(400,400))\n",
        "\n"
      ]
    },
    {
      "cell_type": "code",
      "source": [
        "# These matches are similar to your query molecule (substruct) and so are all\n",
        "# similar to each other. An example of a tageted library."
      ],
      "metadata": {
        "id": "XpM1dl7FYnD_"
      },
      "execution_count": null,
      "outputs": []
    },
    {
      "cell_type": "markdown",
      "source": [
        "## You can also use RDKit to create a similarity set"
      ],
      "metadata": {
        "id": "KxKHY5nccTz6"
      }
    },
    {
      "cell_type": "code",
      "execution_count": null,
      "metadata": {
        "id": "ZSulGwrb3YeQ"
      },
      "outputs": [],
      "source": [
        "# Tanimoto similarity acts on fingerprints, so lets calculate fingerprints for\n",
        "# each molecule in ms.\n",
        "\n",
        "fps = [Chem.RDKFingerprint(m) for m in ms]"
      ]
    },
    {
      "cell_type": "code",
      "execution_count": null,
      "metadata": {
        "id": "9-FGAxPO3YeQ"
      },
      "outputs": [],
      "source": [
        "# Now let's get a molecule to search for.\n",
        "query = Chem.MolFromSmiles('O=C1NC=CC(=O)N1')\n",
        "query_fp = Chem.RDKFingerprint(query)  # Note the use of RDKfingerprint, not MACCS\n",
        "query"
      ]
    },
    {
      "cell_type": "code",
      "execution_count": null,
      "metadata": {
        "id": "P73dEj3b3YeR"
      },
      "outputs": [],
      "source": [
        "# Calculate the tanimoto similarity between the query and each molecule in ms.\n",
        "\n",
        "tanimoto = [\n",
        "    DataStructs.FingerprintSimilarity(query_fp, fp, metric=DataStructs.TanimotoSimilarity)\n",
        "    for fp in fps\n",
        "]\n",
        "tanimoto[:10]"
      ]
    },
    {
      "cell_type": "code",
      "execution_count": null,
      "metadata": {
        "id": "zjAyhkMc3YeR"
      },
      "outputs": [],
      "source": [
        "# Make a list of (tanimoto, molecule) pairs.\n",
        "tanimoto_mol_pairs = list(zip(tanimoto, ms))\n",
        "\n",
        "# Sort by the tanimoto score (first item in pair) from largest to smallest.\n",
        "tanimoto_mol_pairs = sorted(tanimoto_mol_pairs, key=lambda x: x[0], reverse=True)\n",
        "\n",
        "# Just show the top 10.\n",
        "tanimoto_mol_pairs[:10]"
      ]
    },
    {
      "cell_type": "code",
      "execution_count": null,
      "metadata": {
        "id": "TTZ-pI_N3YeR"
      },
      "outputs": [],
      "source": [
        "# What is the most similar molecule?\n",
        "top_score_and_mol = tanimoto_mol_pairs[0]\n",
        "top_mol = top_score_and_mol[1]\n",
        "top_mol"
      ]
    },
    {
      "cell_type": "code",
      "source": [
        "# Remember the beauty of 2D coordinates. Necessary because the sdf file\n",
        "# I loaded had 3D coordinates assigned.\n",
        "AllChem.Compute2DCoords(top_mol)\n",
        "top_mol"
      ],
      "metadata": {
        "id": "zQyQwNAsc4dS"
      },
      "execution_count": null,
      "outputs": []
    },
    {
      "cell_type": "code",
      "execution_count": null,
      "metadata": {
        "id": "qXDAk7sO3YeR"
      },
      "outputs": [],
      "source": [
        "# What is the least similar?\n",
        "worst_score_and_mol = tanimoto_mol_pairs[-1]\n",
        "worst_mol = worst_score_and_mol[1]\n",
        "AllChem.Compute2DCoords(worst_mol)\n",
        "worst_mol"
      ]
    },
    {
      "cell_type": "code",
      "source": [
        "# The similarity set could be defined as the set of N most similar compounds\n",
        "similarity_set = tanimoto_mol_pairs[:10]\n",
        "similar_mols = [m[1] for m in similarity_set]\n",
        "for m in similar_mols:\n",
        "  AllChem.Compute2DCoords(m)\n",
        "Draw.MolsToGridImage(similar_mols, molsPerRow=3, useSVG=True, subImgSize=(300,300))\n",
        "\n"
      ],
      "metadata": {
        "id": "C3oEo5ELfAl4"
      },
      "execution_count": null,
      "outputs": []
    },
    {
      "cell_type": "markdown",
      "source": [
        "## Using RDKit to calculate molecular properties"
      ],
      "metadata": {
        "id": "9cVTzSjoh3N_"
      }
    },
    {
      "cell_type": "code",
      "source": [
        "# Calculate the molecular properties (logP, MW, number of hydrogen bond donors,\n",
        "\n",
        "# Create a DataFrame\n",
        "df = pd.DataFrame(columns=[\"SMILES\", \"MW\", \"logP\", \"HBD\", \"HBA\"])\n",
        "\n",
        "# Populate the DataFrame\n",
        "for i, m in enumerate(ms):\n",
        "    df.loc[i] = [\n",
        "        Chem.MolToSmiles(ms[i]),\n",
        "        round(AllChem.CalcExactMolWt(m), 2),\n",
        "        round(Crippen.MolLogP(m), 2),\n",
        "        round(Lipinski.NumHDonors(m), 2),\n",
        "        round(Lipinski.NumHAcceptors(m), 2),\n",
        "    ]\n",
        "df"
      ],
      "metadata": {
        "id": "02MsujIb8j-k"
      },
      "execution_count": null,
      "outputs": []
    }
  ],
  "metadata": {
    "kernelspec": {
      "display_name": "my-rdkit-env",
      "language": "python",
      "name": "python3"
    },
    "language_info": {
      "codemirror_mode": {
        "name": "ipython",
        "version": 3
      },
      "file_extension": ".py",
      "mimetype": "text/x-python",
      "name": "python",
      "nbconvert_exporter": "python",
      "pygments_lexer": "ipython3",
      "version": "3.7.6"
    },
    "orig_nbformat": 4,
    "vscode": {
      "interpreter": {
        "hash": "206168d7fe8cb65e1256d1ae356f5ff7c986d85b7d4db7b07ccc5ecf9c87a9c1"
      }
    },
    "colab": {
      "provenance": []
    }
  },
  "nbformat": 4,
  "nbformat_minor": 0
}