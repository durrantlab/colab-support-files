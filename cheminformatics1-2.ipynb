{
  "cells": [
    {
      "cell_type": "code",
      "source": [
        "# Install conda (to install rdkit)\n",
        "!pip install -q condacolab\n",
        "import condacolab\n",
        "condacolab.install()"
      ],
      "metadata": {
        "id": "-UhaXjYQ3nwM"
      },
      "execution_count": null,
      "outputs": []
    },
    {
      "cell_type": "code",
      "source": [
        "# Now install rdkit. Can take a bit.\n",
        "!mamba install -c conda-forge rdkit\n"
      ],
      "metadata": {
        "id": "KEDzh15_3vi5"
      },
      "execution_count": null,
      "outputs": []
    },
    {
      "cell_type": "code",
      "execution_count": null,
      "metadata": {
        "id": "_fd1mKLe3YeP"
      },
      "outputs": [],
      "source": [
        "# Import rdkit\n",
        "\n",
        "from rdkit import Chem\n",
        "from rdkit.Chem import AllChem\n",
        "from rdkit.Chem import Draw\n",
        "from rdkit import DataStructs\n",
        "from rdkit.ML.Cluster import Butina\n",
        "from rdkit.Chem import Crippen\n",
        "from rdkit.Chem import Lipinski"
      ]
    },
    {
      "cell_type": "code",
      "execution_count": null,
      "metadata": {
        "id": "uSAG4MW03YeQ"
      },
      "outputs": [],
      "source": [
        "# You can also load molecules from a file in other formats (e.g., SDF). Note\n",
        "# that SDF files can contain multiple molecules.\n",
        "\n",
        "# Download mol.sdf\n",
        "import requests\n",
        "url = 'https://raw.githubusercontent.com/durrantlab/colab-support-files/refs/heads/main/mols.sdf'\n",
        "response = requests.get(url)\n",
        "sdf_contents = response.text\n",
        "with open(\"mols.sdf\", \"w\") as f:\n",
        "    f.write(sdf_contents)\n",
        "\n",
        "# Load the SDF file\n",
        "suppl = Chem.SDMolSupplier('mols.sdf')\n",
        "suppl"
      ]
    },
    {
      "cell_type": "code",
      "execution_count": null,
      "metadata": {
        "id": "t2WSZZAz3YeQ"
      },
      "outputs": [],
      "source": [
        "# If any molecules can't be read, they will be None. Filter them out.\n",
        "ms = [x for x in suppl if x is not None]\n",
        "\n",
        "# How many molecules did we get?\n",
        "print(len(ms))"
      ]
    },
    {
      "cell_type": "markdown",
      "source": [
        "# Cheminformatics #1"
      ],
      "metadata": {
        "id": "BN9oDRtC6YnF"
      }
    },
    {
      "cell_type": "code",
      "execution_count": null,
      "metadata": {
        "id": "6wRniteR3YeQ"
      },
      "outputs": [],
      "source": [
        "# Show the first molecule. In this case, the molecules have 3D coordinates\n",
        "# assigned.\n",
        "ms[0]"
      ]
    },
    {
      "cell_type": "code",
      "execution_count": null,
      "metadata": {
        "id": "HfVerT4r3YeQ"
      },
      "outputs": [],
      "source": [
        "# To improve the drawing, let's calculate 2D coordiantes instead.\n",
        "for m in ms:\n",
        "    AllChem.Compute2DCoords(m)\n",
        "\n",
        "ms[0]"
      ]
    },
    {
      "cell_type": "code",
      "execution_count": null,
      "metadata": {
        "id": "1__Eh2bd3YeQ"
      },
      "outputs": [],
      "source": [
        "# You can also use rdkit to create mol objects from smiles strings\n",
        "\n",
        "housane = Chem.MolFromSmiles('C1CC2C1C2')\n",
        "housane"
      ]
    },
    {
      "cell_type": "code",
      "source": [
        "# RDKIT represents molecules as objects. There are many ways of creating these\n",
        "# molecule objects. For example, you can create them from SMILES strings:\n",
        "kid = Chem.MolFromSmiles('O1CCOC1c1c(C#CC(C)(C)C)cc(c(C#CC(C)(C)C)c1)C#Cc1cc(C#CCCC)cc(C#CCCC)c1')\n",
        "kid"
      ],
      "metadata": {
        "id": "Aah5YReq9BGx"
      },
      "execution_count": null,
      "outputs": []
    },
    {
      "cell_type": "markdown",
      "source": [
        "# Cheminformatics #2\n"
      ],
      "metadata": {
        "id": "C2Hm9eTd6RYU"
      }
    },
    {
      "cell_type": "code",
      "source": [
        "# You can also use rdkit to search for molecules with certain substructures.\n",
        "# Define the substructure.\n",
        "\n",
        "substruct = Chem.MolFromSmiles('c1ccccc1')\n",
        "substruct"
      ],
      "metadata": {
        "id": "DgMQGahg7PjP"
      },
      "execution_count": null,
      "outputs": []
    },
    {
      "cell_type": "code",
      "execution_count": null,
      "metadata": {
        "id": "acoSu8L33YeQ"
      },
      "outputs": [],
      "source": [
        "\n",
        "# Search throguh the molecules to find matches\n",
        "matches = []\n",
        "nonmatches = []\n",
        "for m in ms:\n",
        "    if m.HasSubstructMatch(substruct):\n",
        "        matches.append(m)\n",
        "    else:\n",
        "        nonmatches.append(m)\n",
        "\n",
        "# How many matches are there?\n",
        "print(len(matches))\n",
        "\n",
        "# What's the first match?\n",
        "matches[0]\n",
        "\n",
        "# What's the first nonmatch?\n",
        "# nonmatches[0]"
      ]
    },
    {
      "cell_type": "code",
      "execution_count": null,
      "metadata": {
        "id": "ZSulGwrb3YeQ"
      },
      "outputs": [],
      "source": [
        "# We can also do tanimoto searching with RDKit. Tanimoto acts on fingerprints,\n",
        "# so lets calculate fingerprints for each molecule in ms.\n",
        "\n",
        "fps = [Chem.RDKFingerprint(m) for m in ms]"
      ]
    },
    {
      "cell_type": "code",
      "execution_count": null,
      "metadata": {
        "id": "9-FGAxPO3YeQ"
      },
      "outputs": [],
      "source": [
        "# Now let's get a molecule to search for.\n",
        "query = Chem.MolFromSmiles('O=C1NC=CC(=O)N1')\n",
        "query_fp = Chem.RDKFingerprint(query)\n",
        "query"
      ]
    },
    {
      "cell_type": "code",
      "execution_count": null,
      "metadata": {
        "id": "P73dEj3b3YeR"
      },
      "outputs": [],
      "source": [
        "# Calculate the tanimoto similarity between the query and each molecule in ms.\n",
        "\n",
        "tanimoto = [\n",
        "    DataStructs.FingerprintSimilarity(query_fp, fp, metric=DataStructs.TanimotoSimilarity)\n",
        "    for fp in fps\n",
        "]"
      ]
    },
    {
      "cell_type": "code",
      "execution_count": null,
      "metadata": {
        "id": "zjAyhkMc3YeR"
      },
      "outputs": [],
      "source": [
        "# Make a list of (tanimoto, molecule) pairs.\n",
        "tanimoto_mol_pairs = list(zip(tanimoto, ms))\n",
        "\n",
        "# Sort by the tanimoto score (first item in pair) from largest to smallest.\n",
        "tanimoto_mol_pairs = sorted(tanimoto_mol_pairs, key=lambda x: x[0], reverse=True)\n",
        "\n",
        "# Just show the top 10.\n",
        "tanimoto_mol_pairs[:10]"
      ]
    },
    {
      "cell_type": "code",
      "execution_count": null,
      "metadata": {
        "id": "TTZ-pI_N3YeR"
      },
      "outputs": [],
      "source": [
        "# What is the most similar molecule?\n",
        "top_score_and_mol = tanimoto_mol_pairs[0]\n",
        "top_mol = top_score_and_mol[1]\n",
        "top_mol"
      ]
    },
    {
      "cell_type": "code",
      "execution_count": null,
      "metadata": {
        "id": "qXDAk7sO3YeR"
      },
      "outputs": [],
      "source": [
        "# What is the least similar?\n",
        "worst_score_and_mol = tanimoto_mol_pairs[-1]\n",
        "worst_mol = worst_score_and_mol[1]\n",
        "worst_mol"
      ]
    },
    {
      "cell_type": "code",
      "source": [
        "# Use the Butina algorithm to cluster the compounds in the ms list. See\n",
        "# https://projects.volkamerlab.org/teachopencadd/talktorials/T005_compound_clustering.html\n",
        "\n",
        "# NOTE: I won't ask you how to run Butina using RDKit specifically. Good to\n",
        "# understand how Butina algorithm works generally, though.\n",
        "# Convert all the molecules to fingerprints\n",
        "fps = [Chem.RDKFingerprint(m) for m in ms]\n",
        "def tanimoto_distance_matrix(fp_list):\n",
        "  \"\"\"Calculate distance matrix for fingerprint list\"\"\"\n",
        "  dissimilarity_matrix = []\n",
        "  # Notice how we are deliberately skipping the first and last items in the\n",
        "  # list because we don't need to compare them against themselves\n",
        "  for i in range(1, len(fp_list)):\n",
        "    # Compare the current fingerprint against all the previous ones in the\n",
        "    # list\n",
        "    similarities = DataStructs.BulkTanimotoSimilarity(fp_list[i], fp_list[:i])\n",
        "    # Since we need a distance matrix, calculate 1-x for every element in\n",
        "    # similarity matrix\n",
        "    dissimilarity_matrix.extend([1 - x for x in similarities])\n",
        "  return dissimilarity_matrix\n",
        "distance_matrix = tanimoto_distance_matrix(fps)"
      ],
      "metadata": {
        "id": "j2uI9GIm8H1T"
      },
      "execution_count": null,
      "outputs": []
    },
    {
      "cell_type": "code",
      "source": [
        "# Run the Butina algorithm to cluster the molecules. NOTE: I won't ask you how\n",
        "# to run Butina using RDKit specifically. Good to understand how Butina\n",
        "# algorithm works generally, though.\n",
        "clusters = Butina.ClusterData(distance_matrix, len(fps), 0.125, isDistData=True)\n",
        "clusters = sorted(clusters, key=len, reverse=True)"
      ],
      "metadata": {
        "id": "eq0QevPi8L9j"
      },
      "execution_count": null,
      "outputs": []
    },
    {
      "cell_type": "code",
      "source": [
        "# `clusters` is a list of tuples, where each tuple contains the indices of the\n",
        "# molecules in that cluster.\n",
        "print(len(clusters))\n",
        "clusters"
      ],
      "metadata": {
        "id": "rfMZz0hZ8dJF"
      },
      "execution_count": null,
      "outputs": []
    },
    {
      "cell_type": "code",
      "source": [
        "# Let's look at the first cluster\n",
        "first_cluster = clusters[0]\n",
        "second_cluster = clusters[1]\n",
        "first_cluster"
      ],
      "metadata": {
        "id": "nUzhYu7I8gZ9"
      },
      "execution_count": null,
      "outputs": []
    },
    {
      "cell_type": "code",
      "source": [
        "# Look at the structures themselves\n",
        "ms[first_cluster[0]]"
      ],
      "metadata": {
        "id": "ygjVolUw8gmf"
      },
      "execution_count": null,
      "outputs": []
    },
    {
      "cell_type": "code",
      "source": [
        "ms[first_cluster[1]]"
      ],
      "metadata": {
        "id": "gdVdzQge8iJ6"
      },
      "execution_count": null,
      "outputs": []
    },
    {
      "cell_type": "code",
      "source": [
        "# Calculate the molecular properties (logP, MW, number of hydrogen bond donors,\n",
        "# number of hydrogen bond acceptors).\n",
        "t = 5.345\n",
        "# round t to nearest hundredth\n",
        "print(round(t, 2))\n",
        "\n",
        "print(\"MW logP HBD HBA\")\n",
        "for m in ms:\n",
        "  print(\n",
        "    round(AllChem.CalcExactMolWt(m), 2),\n",
        "    round(Crippen.MolLogP(m), 2),\n",
        "    round(Lipinski.NumHDonors(m), 2),\n",
        "    round(Lipinski.NumHAcceptors(m), 2)\n",
        "  )"
      ],
      "metadata": {
        "id": "02MsujIb8j-k"
      },
      "execution_count": null,
      "outputs": []
    }
  ],
  "metadata": {
    "kernelspec": {
      "display_name": "my-rdkit-env",
      "language": "python",
      "name": "python3"
    },
    "language_info": {
      "codemirror_mode": {
        "name": "ipython",
        "version": 3
      },
      "file_extension": ".py",
      "mimetype": "text/x-python",
      "name": "python",
      "nbconvert_exporter": "python",
      "pygments_lexer": "ipython3",
      "version": "3.7.6"
    },
    "orig_nbformat": 4,
    "vscode": {
      "interpreter": {
        "hash": "206168d7fe8cb65e1256d1ae356f5ff7c986d85b7d4db7b07ccc5ecf9c87a9c1"
      }
    },
    "colab": {
      "provenance": []
    }
  },
  "nbformat": 4,
  "nbformat_minor": 0
}