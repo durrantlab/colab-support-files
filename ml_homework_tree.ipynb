{
 "cells": [
  {
   "cell_type": "code",
   "execution_count": null,
   "metadata": {},
   "outputs": [],
   "source": [
    "# CELL 1\n",
    "\n",
    "import csv\n",
    "import requests\n",
    "\n",
    "# Download the CSV file using requests\n",
    "url = 'https://raw.githubusercontent.com/durrantlab/colab-support-files/refs/heads/main/drug_data_props_active.csv'\n",
    "response = requests.get(url)\n",
    "response.raise_for_status()  # Raise an exception for HTTP errors\n",
    "\n",
    "# Read the CSV data\n",
    "data = response.text.splitlines()\n",
    "reader = csv.reader(data)\n",
    "data_and_header = list(reader)\n",
    "\n",
    "# Show the first 5 rows of the data\n",
    "data_and_header[:5]"
   ]
  },
  {
   "cell_type": "code",
   "execution_count": null,
   "metadata": {},
   "outputs": [],
   "source": [
    "# CELL 2\n",
    "\n",
    "# Remove the header (first line) from the data. See\n",
    "# https://www.geeksforgeeks.org/python-list-slicing/\n",
    "\n",
    "### COPY THE CODE YOU PUT HERE INTO HOMEWORK QUESTION #1 (CANVAS) ###"
   ]
  },
  {
   "cell_type": "code",
   "execution_count": null,
   "metadata": {},
   "outputs": [],
   "source": [
    "# CELL 3\n",
    "\n",
    "# The first four columns are the features, and the fifth column is \n",
    "# the labels. Separate the features and labels into two lists.\n",
    "\n",
    "features = [row[:4] for row in data]\n",
    "labels = [row[4] for row in data]"
   ]
  },
  {
   "cell_type": "code",
   "execution_count": null,
   "metadata": {},
   "outputs": [],
   "source": [
    "# CELL 4\n",
    "\n",
    "# The features are all strings. Convert them to floats (numbers) for use in\n",
    "# machine learning. See\n",
    "# https://www.geeksforgeeks.org/convert-string-to-float-in-python/\n",
    "\n",
    "### COPY THE CODE YOU PUT HERE INTO HOMEWORK QUESTION #2 (CANVAS) ###"
   ]
  },
  {
   "cell_type": "code",
   "execution_count": null,
   "metadata": {},
   "outputs": [],
   "source": [
    "# CELL 5\n",
    "\n",
    "# The labels are also strings. Convert them to integers. Assign 0\n",
    "# to \"DECOY\" and 1 to \"DRUG\"\n",
    "\n",
    "labels = [0 if x == 'DECOY' else 1 for x in labels]"
   ]
  },
  {
   "cell_type": "code",
   "execution_count": null,
   "metadata": {},
   "outputs": [],
   "source": [
    "# CELL 6\n",
    "\n",
    "# Import modules from sklearn\n",
    "\n",
    "from sklearn.model_selection import train_test_split\n",
    "from sklearn import tree\n",
    "from sklearn.metrics import accuracy_score"
   ]
  },
  {
   "cell_type": "code",
   "execution_count": null,
   "metadata": {},
   "outputs": [],
   "source": [
    "# CELL 7\n",
    "\n",
    "# Split the data into testing and training sets. Use 25% of the data for\n",
    "# testing. The training-set features should be stored in a variable called\n",
    "# `train_features`. The testing-set features should be stored in a variable\n",
    "# called `test_features`. The training-set labels should be stored in a variable\n",
    "# called `train_labels`. The testing-set labels should be stored in a variable\n",
    "#  called `test_labels`. See\n",
    "# https://scikit-learn.org/1.6/modules/generated/sklearn.model_selection.train_test_split.html\n",
    "# and the example ML code from the lecture slides.\n",
    "\n",
    "train_features, test_features, train_labels, test_labels = ### COPY THE CODE YOU PUT HERE INTO HOMEWORK QUESTION #3 (CANVAS) ###"
   ]
  },
  {
   "cell_type": "code",
   "execution_count": null,
   "metadata": {},
   "outputs": [],
   "source": [
    "# CELL 8\n",
    "\n",
    "# Create a decision tree classifier\n",
    "\n",
    "clf = tree.DecisionTreeClassifier()"
   ]
  },
  {
   "cell_type": "code",
   "execution_count": null,
   "metadata": {},
   "outputs": [],
   "source": [
    "# CELL 9 \n",
    "\n",
    "# Train the classifier to predict the training-set labels from the training-set\n",
    "# features. See\n",
    "# https://scikit-learn.org/dev/modules/generated/sklearn.tree.DecisionTreeClassifier.html#sklearn.tree.DecisionTreeClassifier.fit\n",
    "# and the example ML code from the lecture slides.\n",
    "\n",
    "### COPY THE CODE YOU PUT HERE INTO HOMEWORK QUESTION #4 (CANVAS) ###\n"
   ]
  },
  {
   "cell_type": "code",
   "execution_count": null,
   "metadata": {},
   "outputs": [],
   "source": [
    "# CELL 10\n",
    "\n",
    "# Use the trained model to predict the testing-set labels from the testing-set\n",
    "# features. Story these predictions in a variable called `predictions`. See\n",
    "# https://scikit-learn.org/dev/modules/generated/sklearn.tree.DecisionTreeClassifier.html#sklearn.tree.DecisionTreeClassifier.predict\n",
    "# and the example ML code from the lecture slides.\n",
    "\n",
    "predictions = ### COPY THE CODE YOU PUT HERE INTO HOMEWORK QUESTION #5 (CANVAS) ###"
   ]
  },
  {
   "cell_type": "code",
   "execution_count": null,
   "metadata": {},
   "outputs": [],
   "source": [
    "# CELL 11\n",
    "\n",
    "# This code evaluates the accuracy of the model. You do not need to modify it.\n",
    "# But enter the value you get into homework question #6 on Canvas.\n",
    "\n",
    "# Calculate the accuracy\n",
    "print(accuracy_score(test_labels, predictions))"
   ]
  }
 ],
 "metadata": {
  "kernelspec": {
   "display_name": "base",
   "language": "python",
   "name": "python3"
  },
  "language_info": {
   "codemirror_mode": {
    "name": "ipython",
    "version": 3
   },
   "file_extension": ".py",
   "mimetype": "text/x-python",
   "name": "python",
   "nbconvert_exporter": "python",
   "pygments_lexer": "ipython3",
   "version": "3.9.7"
  },
  "orig_nbformat": 4
 },
 "nbformat": 4,
 "nbformat_minor": 2
}
